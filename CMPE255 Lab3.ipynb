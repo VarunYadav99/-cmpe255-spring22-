{
 "cells": [
  {
   "cell_type": "code",
   "execution_count": 104,
   "id": "fb51c6be",
   "metadata": {},
   "outputs": [],
   "source": [
    "import pandas as pd\n",
    "import numpy as np\n",
    "import matplotlib.pyplot as plt\n",
    "import seaborn as sns"
   ]
  },
  {
   "cell_type": "code",
   "execution_count": 105,
   "id": "0dafb6e0",
   "metadata": {},
   "outputs": [
    {
     "name": "stdout",
     "output_type": "stream",
     "text": [
      "   baseline value  accelerations  fetal_movement  uterine_contractions  \\\n",
      "0           120.0          0.000             0.0                 0.000   \n",
      "1           132.0          0.006             0.0                 0.006   \n",
      "2           133.0          0.003             0.0                 0.008   \n",
      "3           134.0          0.003             0.0                 0.008   \n",
      "4           132.0          0.007             0.0                 0.008   \n",
      "\n",
      "   light_decelerations  severe_decelerations  prolongued_decelerations  \\\n",
      "0                0.000                   0.0                       0.0   \n",
      "1                0.003                   0.0                       0.0   \n",
      "2                0.003                   0.0                       0.0   \n",
      "3                0.003                   0.0                       0.0   \n",
      "4                0.000                   0.0                       0.0   \n",
      "\n",
      "   abnormal_short_term_variability  mean_value_of_short_term_variability  \\\n",
      "0                             73.0                                   0.5   \n",
      "1                             17.0                                   2.1   \n",
      "2                             16.0                                   2.1   \n",
      "3                             16.0                                   2.4   \n",
      "4                             16.0                                   2.4   \n",
      "\n",
      "   percentage_of_time_with_abnormal_long_term_variability  ...  histogram_min  \\\n",
      "0                                               43.0       ...           62.0   \n",
      "1                                                0.0       ...           68.0   \n",
      "2                                                0.0       ...           68.0   \n",
      "3                                                0.0       ...           53.0   \n",
      "4                                                0.0       ...           53.0   \n",
      "\n",
      "   histogram_max  histogram_number_of_peaks  histogram_number_of_zeroes  \\\n",
      "0          126.0                        2.0                         0.0   \n",
      "1          198.0                        6.0                         1.0   \n",
      "2          198.0                        5.0                         1.0   \n",
      "3          170.0                       11.0                         0.0   \n",
      "4          170.0                        9.0                         0.0   \n",
      "\n",
      "   histogram_mode  histogram_mean  histogram_median  histogram_variance  \\\n",
      "0           120.0           137.0             121.0                73.0   \n",
      "1           141.0           136.0             140.0                12.0   \n",
      "2           141.0           135.0             138.0                13.0   \n",
      "3           137.0           134.0             137.0                13.0   \n",
      "4           137.0           136.0             138.0                11.0   \n",
      "\n",
      "   histogram_tendency  fetal_health  \n",
      "0                 1.0           2.0  \n",
      "1                 0.0           1.0  \n",
      "2                 0.0           1.0  \n",
      "3                 1.0           1.0  \n",
      "4                 1.0           1.0  \n",
      "\n",
      "[5 rows x 22 columns]\n"
     ]
    }
   ],
   "source": [
    "health = pd.read_csv('fetal_health.csv')\n",
    "health_copy = health.copy()\n",
    "print(health.head(5))"
   ]
  },
  {
   "cell_type": "code",
   "execution_count": 106,
   "id": "c7f0a4d4",
   "metadata": {
    "scrolled": false
   },
   "outputs": [
    {
     "data": {
      "text/plain": [
       "Index(['baseline value', 'accelerations', 'fetal_movement',\n",
       "       'uterine_contractions', 'light_decelerations', 'severe_decelerations',\n",
       "       'prolongued_decelerations', 'abnormal_short_term_variability',\n",
       "       'mean_value_of_short_term_variability',\n",
       "       'percentage_of_time_with_abnormal_long_term_variability',\n",
       "       'mean_value_of_long_term_variability', 'histogram_width',\n",
       "       'histogram_min', 'histogram_max', 'histogram_number_of_peaks',\n",
       "       'histogram_number_of_zeroes', 'histogram_mode', 'histogram_mean',\n",
       "       'histogram_median', 'histogram_variance', 'histogram_tendency',\n",
       "       'fetal_health'],\n",
       "      dtype='object')"
      ]
     },
     "execution_count": 106,
     "metadata": {},
     "output_type": "execute_result"
    }
   ],
   "source": [
    "health.columns"
   ]
  },
  {
   "cell_type": "code",
   "execution_count": 107,
   "id": "47bea3e5",
   "metadata": {},
   "outputs": [],
   "source": [
    "X = health.iloc[:, :-1].values\n",
    "y = health.iloc[:, -1].values"
   ]
  },
  {
   "cell_type": "code",
   "execution_count": 108,
   "id": "6e5aa8f5",
   "metadata": {},
   "outputs": [
    {
     "data": {
      "text/plain": [
       "array([2., 1., 1., ..., 2., 2., 1.])"
      ]
     },
     "execution_count": 108,
     "metadata": {},
     "output_type": "execute_result"
    }
   ],
   "source": [
    "y"
   ]
  },
  {
   "cell_type": "code",
   "execution_count": 109,
   "id": "4a81cb44",
   "metadata": {},
   "outputs": [],
   "source": [
    "from sklearn.preprocessing import StandardScaler\n",
    "sc = StandardScaler()\n",
    "X_scaled = sc.fit_transform(X)\n"
   ]
  },
  {
   "cell_type": "code",
   "execution_count": 110,
   "id": "69486776",
   "metadata": {},
   "outputs": [],
   "source": [
    "from sklearn.model_selection import train_test_split\n",
    "X_train, X_test, y_train, y_test = train_test_split(X_scaled, y, test_size = 0.25, random_state = 0)"
   ]
  },
  {
   "cell_type": "code",
   "execution_count": 111,
   "id": "ba2bd608",
   "metadata": {},
   "outputs": [
    {
     "data": {
      "text/plain": [
       "array([[-1.35222005, -0.8223883 , -0.20320955, ..., -1.18164215,\n",
       "         1.87056871,  1.11298001],\n",
       "       [-0.1325256 ,  0.73013282, -0.20320955, ...,  0.13203796,\n",
       "        -0.23499819, -0.52452553],\n",
       "       [-0.03088439, -0.04612774, -0.20320955, ..., -0.00624416,\n",
       "        -0.2004807 , -0.52452553],\n",
       "       ...,\n",
       "       [ 0.68060404, -0.56363478, -0.20320955, ...,  0.96173066,\n",
       "        -0.51113811,  1.11298001],\n",
       "       [ 0.68060404, -0.56363478, -0.20320955, ...,  0.8925896 ,\n",
       "        -0.51113811,  1.11298001],\n",
       "       [ 0.88388645, -0.30488126, -0.16034157, ...,  0.47774325,\n",
       "        -0.61469058, -0.52452553]])"
      ]
     },
     "execution_count": 111,
     "metadata": {},
     "output_type": "execute_result"
    }
   ],
   "source": [
    "X_scaled"
   ]
  },
  {
   "cell_type": "code",
   "execution_count": 112,
   "id": "eca0c604",
   "metadata": {},
   "outputs": [],
   "source": [
    "from sklearn.svm import SVC"
   ]
  },
  {
   "cell_type": "code",
   "execution_count": 113,
   "id": "d23ff305",
   "metadata": {},
   "outputs": [
    {
     "data": {
      "text/plain": [
       "0.9060150375939849"
      ]
     },
     "execution_count": 113,
     "metadata": {},
     "output_type": "execute_result"
    }
   ],
   "source": [
    "model_C1 = SVC(C=1)\n",
    "model_C1.fit(X_train, y_train)\n",
    "clf_c1 = model_C1.fit(X_train, y_train)\n",
    "model_C1.score(X_test, y_test)"
   ]
  },
  {
   "cell_type": "code",
   "execution_count": 114,
   "id": "631a97f0",
   "metadata": {},
   "outputs": [
    {
     "data": {
      "text/plain": [
       "0.9229323308270677"
      ]
     },
     "execution_count": 114,
     "metadata": {},
     "output_type": "execute_result"
    }
   ],
   "source": [
    "model_C10 = SVC(C=10)\n",
    "model_C10.fit(X_train, y_train)\n",
    "clf_c10 = model_C10.fit(X_train, y_train)\n",
    "model_C10.score(X_test, y_test)"
   ]
  },
  {
   "cell_type": "code",
   "execution_count": 115,
   "id": "89dd22ef",
   "metadata": {},
   "outputs": [
    {
     "data": {
      "text/plain": [
       "0.9229323308270677"
      ]
     },
     "execution_count": 115,
     "metadata": {},
     "output_type": "execute_result"
    }
   ],
   "source": [
    "model_C50 = SVC(C=50)\n",
    "model_C50.fit(X_train, y_train)\n",
    "clf_c50 = model_C50.fit(X_train, y_train)\n",
    "model_C50.score(X_test, y_test)"
   ]
  },
  {
   "cell_type": "code",
   "execution_count": 116,
   "id": "95545e63",
   "metadata": {},
   "outputs": [],
   "source": [
    "from sklearn.model_selection import cross_val_score"
   ]
  },
  {
   "cell_type": "code",
   "execution_count": 117,
   "id": "717766c8",
   "metadata": {},
   "outputs": [
    {
     "data": {
      "text/plain": [
       "0.8410178049428648"
      ]
     },
     "execution_count": 117,
     "metadata": {},
     "output_type": "execute_result"
    }
   ],
   "source": [
    "scores1 = cross_val_score(model_C1,X,y, cv=10)\n",
    "np.average(scores1)"
   ]
  },
  {
   "cell_type": "code",
   "execution_count": 118,
   "id": "9d6703e6",
   "metadata": {},
   "outputs": [
    {
     "data": {
      "text/plain": [
       "0.8498693418371867"
      ]
     },
     "execution_count": 118,
     "metadata": {},
     "output_type": "execute_result"
    }
   ],
   "source": [
    "scores10 = cross_val_score(model_C10,X,y, cv=10)\n",
    "np.average(scores10)"
   ]
  },
  {
   "cell_type": "code",
   "execution_count": 119,
   "id": "21c12012",
   "metadata": {},
   "outputs": [
    {
     "data": {
      "text/plain": [
       "0.8465718841349987"
      ]
     },
     "execution_count": 119,
     "metadata": {},
     "output_type": "execute_result"
    }
   ],
   "source": [
    "scores50 = cross_val_score(model_C50,X,y, cv=10)\n",
    "np.average(scores50)"
   ]
  },
  {
   "cell_type": "code",
   "execution_count": 120,
   "id": "b3f77c84",
   "metadata": {
    "scrolled": false
   },
   "outputs": [
    {
     "data": {
      "text/plain": [
       "{'mean_fit_time': array([0.10023332, 0.09025507, 0.09399323, 0.22074718, 0.07566776,\n",
       "        0.92014518]),\n",
       " 'std_fit_time': array([0.0227246 , 0.01460536, 0.01574616, 0.01896516, 0.0056565 ,\n",
       "        0.18939955]),\n",
       " 'mean_score_time': array([0.05810947, 0.0114491 , 0.04940572, 0.01076727, 0.03511653,\n",
       "        0.00859656]),\n",
       " 'std_score_time': array([0.01235007, 0.00433681, 0.01017375, 0.00255261, 0.005781  ,\n",
       "        0.00340521]),\n",
       " 'param_C': masked_array(data=[1, 1, 10, 10, 50, 50],\n",
       "              mask=[False, False, False, False, False, False],\n",
       "        fill_value='?',\n",
       "             dtype=object),\n",
       " 'param_kernel': masked_array(data=['rbf', 'linear', 'rbf', 'linear', 'rbf', 'linear'],\n",
       "              mask=[False, False, False, False, False, False],\n",
       "        fill_value='?',\n",
       "             dtype=object),\n",
       " 'params': [{'C': 1, 'kernel': 'rbf'},\n",
       "  {'C': 1, 'kernel': 'linear'},\n",
       "  {'C': 10, 'kernel': 'rbf'},\n",
       "  {'C': 10, 'kernel': 'linear'},\n",
       "  {'C': 50, 'kernel': 'rbf'},\n",
       "  {'C': 50, 'kernel': 'linear'}],\n",
       " 'split0_test_score': array([0.83802817, 0.84037559, 0.83098592, 0.83802817, 0.83333333,\n",
       "        0.83802817]),\n",
       " 'split1_test_score': array([0.86117647, 0.85411765, 0.86117647, 0.85882353, 0.86588235,\n",
       "        0.86117647]),\n",
       " 'split2_test_score': array([0.91058824, 0.90823529, 0.91294118, 0.90588235, 0.91058824,\n",
       "        0.90588235]),\n",
       " 'split3_test_score': array([0.87764706, 0.88941176, 0.87529412, 0.88941176, 0.86352941,\n",
       "        0.89176471]),\n",
       " 'split4_test_score': array([0.74117647, 0.71529412, 0.72235294, 0.71058824, 0.71529412,\n",
       "        0.71058824]),\n",
       " 'mean_test_score': array([0.84572328, 0.84148688, 0.84055012, 0.84054681, 0.83772549,\n",
       "        0.84148799]),\n",
       " 'std_test_score': array([0.05736661, 0.06758333, 0.06470719, 0.06911748, 0.06599449,\n",
       "        0.06958266]),\n",
       " 'rank_test_score': array([1, 3, 4, 5, 6, 2])}"
      ]
     },
     "execution_count": 120,
     "metadata": {},
     "output_type": "execute_result"
    }
   ],
   "source": [
    "from sklearn.model_selection import GridSearchCV\n",
    "clf = GridSearchCV(SVC(gamma='auto'), {\n",
    "    'C': [1,10,50],\n",
    "    'kernel': ['rbf','linear']\n",
    "}, cv=5, return_train_score=False)\n",
    "clf.fit(X_scaled,y)\n",
    "clf.cv_results_"
   ]
  },
  {
   "cell_type": "code",
   "execution_count": 121,
   "id": "0f7cf450",
   "metadata": {
    "scrolled": false
   },
   "outputs": [
    {
     "data": {
      "text/html": [
       "<div>\n",
       "<style scoped>\n",
       "    .dataframe tbody tr th:only-of-type {\n",
       "        vertical-align: middle;\n",
       "    }\n",
       "\n",
       "    .dataframe tbody tr th {\n",
       "        vertical-align: top;\n",
       "    }\n",
       "\n",
       "    .dataframe thead th {\n",
       "        text-align: right;\n",
       "    }\n",
       "</style>\n",
       "<table border=\"1\" class=\"dataframe\">\n",
       "  <thead>\n",
       "    <tr style=\"text-align: right;\">\n",
       "      <th></th>\n",
       "      <th>mean_fit_time</th>\n",
       "      <th>std_fit_time</th>\n",
       "      <th>mean_score_time</th>\n",
       "      <th>std_score_time</th>\n",
       "      <th>param_C</th>\n",
       "      <th>param_kernel</th>\n",
       "      <th>params</th>\n",
       "      <th>split0_test_score</th>\n",
       "      <th>split1_test_score</th>\n",
       "      <th>split2_test_score</th>\n",
       "      <th>split3_test_score</th>\n",
       "      <th>split4_test_score</th>\n",
       "      <th>mean_test_score</th>\n",
       "      <th>std_test_score</th>\n",
       "      <th>rank_test_score</th>\n",
       "    </tr>\n",
       "  </thead>\n",
       "  <tbody>\n",
       "    <tr>\n",
       "      <th>0</th>\n",
       "      <td>0.100233</td>\n",
       "      <td>0.022725</td>\n",
       "      <td>0.058109</td>\n",
       "      <td>0.012350</td>\n",
       "      <td>1</td>\n",
       "      <td>rbf</td>\n",
       "      <td>{'C': 1, 'kernel': 'rbf'}</td>\n",
       "      <td>0.838028</td>\n",
       "      <td>0.861176</td>\n",
       "      <td>0.910588</td>\n",
       "      <td>0.877647</td>\n",
       "      <td>0.741176</td>\n",
       "      <td>0.845723</td>\n",
       "      <td>0.057367</td>\n",
       "      <td>1</td>\n",
       "    </tr>\n",
       "    <tr>\n",
       "      <th>1</th>\n",
       "      <td>0.090255</td>\n",
       "      <td>0.014605</td>\n",
       "      <td>0.011449</td>\n",
       "      <td>0.004337</td>\n",
       "      <td>1</td>\n",
       "      <td>linear</td>\n",
       "      <td>{'C': 1, 'kernel': 'linear'}</td>\n",
       "      <td>0.840376</td>\n",
       "      <td>0.854118</td>\n",
       "      <td>0.908235</td>\n",
       "      <td>0.889412</td>\n",
       "      <td>0.715294</td>\n",
       "      <td>0.841487</td>\n",
       "      <td>0.067583</td>\n",
       "      <td>3</td>\n",
       "    </tr>\n",
       "    <tr>\n",
       "      <th>2</th>\n",
       "      <td>0.093993</td>\n",
       "      <td>0.015746</td>\n",
       "      <td>0.049406</td>\n",
       "      <td>0.010174</td>\n",
       "      <td>10</td>\n",
       "      <td>rbf</td>\n",
       "      <td>{'C': 10, 'kernel': 'rbf'}</td>\n",
       "      <td>0.830986</td>\n",
       "      <td>0.861176</td>\n",
       "      <td>0.912941</td>\n",
       "      <td>0.875294</td>\n",
       "      <td>0.722353</td>\n",
       "      <td>0.840550</td>\n",
       "      <td>0.064707</td>\n",
       "      <td>4</td>\n",
       "    </tr>\n",
       "    <tr>\n",
       "      <th>3</th>\n",
       "      <td>0.220747</td>\n",
       "      <td>0.018965</td>\n",
       "      <td>0.010767</td>\n",
       "      <td>0.002553</td>\n",
       "      <td>10</td>\n",
       "      <td>linear</td>\n",
       "      <td>{'C': 10, 'kernel': 'linear'}</td>\n",
       "      <td>0.838028</td>\n",
       "      <td>0.858824</td>\n",
       "      <td>0.905882</td>\n",
       "      <td>0.889412</td>\n",
       "      <td>0.710588</td>\n",
       "      <td>0.840547</td>\n",
       "      <td>0.069117</td>\n",
       "      <td>5</td>\n",
       "    </tr>\n",
       "    <tr>\n",
       "      <th>4</th>\n",
       "      <td>0.075668</td>\n",
       "      <td>0.005656</td>\n",
       "      <td>0.035117</td>\n",
       "      <td>0.005781</td>\n",
       "      <td>50</td>\n",
       "      <td>rbf</td>\n",
       "      <td>{'C': 50, 'kernel': 'rbf'}</td>\n",
       "      <td>0.833333</td>\n",
       "      <td>0.865882</td>\n",
       "      <td>0.910588</td>\n",
       "      <td>0.863529</td>\n",
       "      <td>0.715294</td>\n",
       "      <td>0.837725</td>\n",
       "      <td>0.065994</td>\n",
       "      <td>6</td>\n",
       "    </tr>\n",
       "    <tr>\n",
       "      <th>5</th>\n",
       "      <td>0.920145</td>\n",
       "      <td>0.189400</td>\n",
       "      <td>0.008597</td>\n",
       "      <td>0.003405</td>\n",
       "      <td>50</td>\n",
       "      <td>linear</td>\n",
       "      <td>{'C': 50, 'kernel': 'linear'}</td>\n",
       "      <td>0.838028</td>\n",
       "      <td>0.861176</td>\n",
       "      <td>0.905882</td>\n",
       "      <td>0.891765</td>\n",
       "      <td>0.710588</td>\n",
       "      <td>0.841488</td>\n",
       "      <td>0.069583</td>\n",
       "      <td>2</td>\n",
       "    </tr>\n",
       "  </tbody>\n",
       "</table>\n",
       "</div>"
      ],
      "text/plain": [
       "   mean_fit_time  std_fit_time  mean_score_time  std_score_time param_C  \\\n",
       "0       0.100233      0.022725         0.058109        0.012350       1   \n",
       "1       0.090255      0.014605         0.011449        0.004337       1   \n",
       "2       0.093993      0.015746         0.049406        0.010174      10   \n",
       "3       0.220747      0.018965         0.010767        0.002553      10   \n",
       "4       0.075668      0.005656         0.035117        0.005781      50   \n",
       "5       0.920145      0.189400         0.008597        0.003405      50   \n",
       "\n",
       "  param_kernel                         params  split0_test_score  \\\n",
       "0          rbf      {'C': 1, 'kernel': 'rbf'}           0.838028   \n",
       "1       linear   {'C': 1, 'kernel': 'linear'}           0.840376   \n",
       "2          rbf     {'C': 10, 'kernel': 'rbf'}           0.830986   \n",
       "3       linear  {'C': 10, 'kernel': 'linear'}           0.838028   \n",
       "4          rbf     {'C': 50, 'kernel': 'rbf'}           0.833333   \n",
       "5       linear  {'C': 50, 'kernel': 'linear'}           0.838028   \n",
       "\n",
       "   split1_test_score  split2_test_score  split3_test_score  split4_test_score  \\\n",
       "0           0.861176           0.910588           0.877647           0.741176   \n",
       "1           0.854118           0.908235           0.889412           0.715294   \n",
       "2           0.861176           0.912941           0.875294           0.722353   \n",
       "3           0.858824           0.905882           0.889412           0.710588   \n",
       "4           0.865882           0.910588           0.863529           0.715294   \n",
       "5           0.861176           0.905882           0.891765           0.710588   \n",
       "\n",
       "   mean_test_score  std_test_score  rank_test_score  \n",
       "0         0.845723        0.057367                1  \n",
       "1         0.841487        0.067583                3  \n",
       "2         0.840550        0.064707                4  \n",
       "3         0.840547        0.069117                5  \n",
       "4         0.837725        0.065994                6  \n",
       "5         0.841488        0.069583                2  "
      ]
     },
     "execution_count": 121,
     "metadata": {},
     "output_type": "execute_result"
    }
   ],
   "source": [
    "df = pd.DataFrame(clf.cv_results_)\n",
    "df"
   ]
  },
  {
   "cell_type": "code",
   "execution_count": 122,
   "id": "f598913d",
   "metadata": {},
   "outputs": [
    {
     "data": {
      "text/html": [
       "<div>\n",
       "<style scoped>\n",
       "    .dataframe tbody tr th:only-of-type {\n",
       "        vertical-align: middle;\n",
       "    }\n",
       "\n",
       "    .dataframe tbody tr th {\n",
       "        vertical-align: top;\n",
       "    }\n",
       "\n",
       "    .dataframe thead th {\n",
       "        text-align: right;\n",
       "    }\n",
       "</style>\n",
       "<table border=\"1\" class=\"dataframe\">\n",
       "  <thead>\n",
       "    <tr style=\"text-align: right;\">\n",
       "      <th></th>\n",
       "      <th>param_C</th>\n",
       "      <th>param_kernel</th>\n",
       "      <th>mean_test_score</th>\n",
       "    </tr>\n",
       "  </thead>\n",
       "  <tbody>\n",
       "    <tr>\n",
       "      <th>0</th>\n",
       "      <td>1</td>\n",
       "      <td>rbf</td>\n",
       "      <td>0.845723</td>\n",
       "    </tr>\n",
       "    <tr>\n",
       "      <th>1</th>\n",
       "      <td>1</td>\n",
       "      <td>linear</td>\n",
       "      <td>0.841487</td>\n",
       "    </tr>\n",
       "    <tr>\n",
       "      <th>2</th>\n",
       "      <td>10</td>\n",
       "      <td>rbf</td>\n",
       "      <td>0.840550</td>\n",
       "    </tr>\n",
       "    <tr>\n",
       "      <th>3</th>\n",
       "      <td>10</td>\n",
       "      <td>linear</td>\n",
       "      <td>0.840547</td>\n",
       "    </tr>\n",
       "    <tr>\n",
       "      <th>4</th>\n",
       "      <td>50</td>\n",
       "      <td>rbf</td>\n",
       "      <td>0.837725</td>\n",
       "    </tr>\n",
       "    <tr>\n",
       "      <th>5</th>\n",
       "      <td>50</td>\n",
       "      <td>linear</td>\n",
       "      <td>0.841488</td>\n",
       "    </tr>\n",
       "  </tbody>\n",
       "</table>\n",
       "</div>"
      ],
      "text/plain": [
       "  param_C param_kernel  mean_test_score\n",
       "0       1          rbf         0.845723\n",
       "1       1       linear         0.841487\n",
       "2      10          rbf         0.840550\n",
       "3      10       linear         0.840547\n",
       "4      50          rbf         0.837725\n",
       "5      50       linear         0.841488"
      ]
     },
     "execution_count": 122,
     "metadata": {},
     "output_type": "execute_result"
    }
   ],
   "source": [
    "df[['param_C','param_kernel','mean_test_score']]"
   ]
  },
  {
   "cell_type": "code",
   "execution_count": 124,
   "id": "2b001a42",
   "metadata": {
    "scrolled": true
   },
   "outputs": [
    {
     "data": {
      "text/html": [
       "<div>\n",
       "<style scoped>\n",
       "    .dataframe tbody tr th:only-of-type {\n",
       "        vertical-align: middle;\n",
       "    }\n",
       "\n",
       "    .dataframe tbody tr th {\n",
       "        vertical-align: top;\n",
       "    }\n",
       "\n",
       "    .dataframe thead th {\n",
       "        text-align: right;\n",
       "    }\n",
       "</style>\n",
       "<table border=\"1\" class=\"dataframe\">\n",
       "  <thead>\n",
       "    <tr style=\"text-align: right;\">\n",
       "      <th></th>\n",
       "      <th>param_C</th>\n",
       "      <th>param_kernel</th>\n",
       "      <th>mean_test_score</th>\n",
       "    </tr>\n",
       "  </thead>\n",
       "  <tbody>\n",
       "    <tr>\n",
       "      <th>0</th>\n",
       "      <td>10</td>\n",
       "      <td>linear</td>\n",
       "      <td>0.840547</td>\n",
       "    </tr>\n",
       "    <tr>\n",
       "      <th>1</th>\n",
       "      <td>1</td>\n",
       "      <td>rbf</td>\n",
       "      <td>0.845722</td>\n",
       "    </tr>\n",
       "  </tbody>\n",
       "</table>\n",
       "</div>"
      ],
      "text/plain": [
       "  param_C param_kernel  mean_test_score\n",
       "0      10       linear         0.840547\n",
       "1       1          rbf         0.845722"
      ]
     },
     "execution_count": 124,
     "metadata": {},
     "output_type": "execute_result"
    }
   ],
   "source": [
    "from sklearn.model_selection import RandomizedSearchCV\n",
    "rs = RandomizedSearchCV(SVC(), {\n",
    "        'C': [1,10,50],\n",
    "        'kernel': ['rbf','linear']\n",
    "    }, \n",
    "    cv=5, \n",
    "    return_train_score=False, \n",
    "    n_iter=2\n",
    ")\n",
    "rs.fit(X_scaled,y)\n",
    "pd.DataFrame(rs.cv_results_)[['param_C','param_kernel','mean_test_score']]"
   ]
  },
  {
   "cell_type": "code",
   "execution_count": 125,
   "id": "565ef5c9",
   "metadata": {},
   "outputs": [],
   "source": [
    "def plot_points(features, labels):\n",
    "    X = np.array(features)\n",
    "    y = np.array(labels)\n",
    "    spam = X[np.argwhere(y==1)]\n",
    "    ham = X[np.argwhere(y==2)]\n",
    "    star = X[np.argwhere(y==3)]\n",
    "    plt.scatter([s[0][0] for s in spam],\n",
    "                   [s[0][1] for s in spam],\n",
    "                   s = 25,\n",
    "                   color = 'cyan',\n",
    "                   edgecolor = 'k',\n",
    "                   marker = '^')\n",
    "    plt.scatter([s[0][0] for s in ham],\n",
    "                   [s[0][1] for s in ham],\n",
    "                   s = 25,\n",
    "                   color = 'red',\n",
    "                   edgecolor = 'k',\n",
    "                   marker = 's')\n",
    "    plt.scatter([s[0][0] for s in star],\n",
    "                   [s[0][1] for s in star],\n",
    "                   s = 25,\n",
    "                   color = 'yellow',\n",
    "                   edgecolor = 'k',\n",
    "                   marker = 's')\n",
    "    plt.xlabel('X_test')\n",
    "    plt.ylabel('Y_test')\n",
    "    plt.legend(['label 2','label 1','label 0'])\n",
    "\n",
    "# def plot_model(X, y, model):\n",
    "#     X = np.array(X)\n",
    "#     y = np.array(y)\n",
    "#     plot_step = 0.01\n",
    "#     x_min, x_max = X[:, 0].min() - 1, X[:, 0].max() + 1\n",
    "#     y_min, y_max = X[:, 1].min() - 1, X[:, 1].max() + 1\n",
    "#     xx, yy = np.meshgrid(np.arange(x_min, x_max, plot_step),\n",
    "#                          np.arange(y_min, y_max, plot_step))\n",
    "#     Z = model.predict(np.c_[xx.ravel(), yy.ravel()])\n",
    "#     Z = Z.reshape(xx.shape)\n",
    "#     pyplot.contour(xx, yy, Z,colors = 'k',linewidths = 3)\n",
    "#     plot_points(X, y)\n",
    "#     pyplot.contourf(xx, yy, Z, colors=['red', 'blue'], alpha=0.2, levels=range(-1,2))\n",
    "#     pyplot.show()"
   ]
  },
  {
   "cell_type": "markdown",
   "id": "ea068a6c",
   "metadata": {},
   "source": [
    "SVM with C = 1"
   ]
  },
  {
   "cell_type": "code",
   "execution_count": 129,
   "id": "02e9b094",
   "metadata": {
    "scrolled": false
   },
   "outputs": [
    {
     "name": "stdout",
     "output_type": "stream",
     "text": [
      "Accuracy: 0.9060150375939849\n"
     ]
    },
    {
     "data": {
      "image/png": "[encoded data removed]",
      "text/plain": [
       "<Figure size 432x288 with 1 Axes>"
      ]
     },
     "metadata": {
      "needs_background": "light"
     },
     "output_type": "display_data"
    }
   ],
   "source": [
    "\n",
    "y_pred_c1 = model_C1.predict(X_test)\n",
    "plot_points(X_test, y_pred_c1)\n",
    "print(\"Accuracy:\", metrics.accuracy_score(y_test, y_pred_c1))\n"
   ]
  },
  {
   "cell_type": "markdown",
   "id": "28687854",
   "metadata": {},
   "source": [
    "SVM with C = 10"
   ]
  },
  {
   "cell_type": "code",
   "execution_count": 130,
   "id": "60a34f62",
   "metadata": {
    "scrolled": true
   },
   "outputs": [
    {
     "name": "stdout",
     "output_type": "stream",
     "text": [
      "Accuracy: 0.9229323308270677\n"
     ]
    },
    {
     "data": {
      "image/png": "[encoded data removed]",
      "text/plain": [
       "<Figure size 432x288 with 1 Axes>"
      ]
     },
     "metadata": {
      "needs_background": "light"
     },
     "output_type": "display_data"
    }
   ],
   "source": [
    "y_pred_c10 = model_C10.predict(X_test)\n",
    "plot_points(X_test, y_pred_c10)\n",
    "print(\"Accuracy:\", metrics.accuracy_score(y_test, y_pred_c10))\n"
   ]
  },
  {
   "cell_type": "markdown",
   "id": "6535d46d",
   "metadata": {},
   "source": [
    "SVM with C = 50"
   ]
  },
  {
   "cell_type": "code",
   "execution_count": 131,
   "id": "185ca87d",
   "metadata": {},
   "outputs": [
    {
     "name": "stdout",
     "output_type": "stream",
     "text": [
      "Accuracy: 0.9229323308270677\n"
     ]
    },
    {
     "data": {
      "image/png": "[encoded data removed]",
      "text/plain": [
       "<Figure size 432x288 with 1 Axes>"
      ]
     },
     "metadata": {
      "needs_background": "light"
     },
     "output_type": "display_data"
    }
   ],
   "source": [
    "y_pred_c50 = model_C50.predict(X_test)\n",
    "plot_points(X_test, y_pred_c50)\n",
    "print(\"Accuracy:\", metrics.accuracy_score(y_test, y_pred_c50))"
   ]
  },
  {
   "cell_type": "code",
   "execution_count": 133,
   "id": "bb669935",
   "metadata": {},
   "outputs": [
    {
     "ename": "ValueError",
     "evalue": "X.shape[1] = 2 should be equal to 21, the number of features at training time",
     "output_type": "error",
     "traceback": [
      "\u001b[1;31m---------------------------------------------------------------------------\u001b[0m",
      "\u001b[1;31mValueError\u001b[0m                                Traceback (most recent call last)",
      "\u001b[1;32m<ipython-input-133-5b3ffa14308c>\u001b[0m in \u001b[0;36m<module>\u001b[1;34m\u001b[0m\n\u001b[1;32m----> 1\u001b[1;33m \u001b[0mplot_model\u001b[0m\u001b[1;33m(\u001b[0m\u001b[0mX_test\u001b[0m\u001b[1;33m,\u001b[0m \u001b[0my_pred\u001b[0m\u001b[1;33m,\u001b[0m \u001b[0mmodel_C1\u001b[0m\u001b[1;33m)\u001b[0m\u001b[1;33m\u001b[0m\u001b[1;33m\u001b[0m\u001b[0m\n\u001b[0m",
      "\u001b[1;32m<ipython-input-98-01ca7265bbfb>\u001b[0m in \u001b[0;36mplot_model\u001b[1;34m(X, y, model)\u001b[0m\n\u001b[0;32m     35\u001b[0m     xx, yy = np.meshgrid(np.arange(x_min, x_max, plot_step),\n\u001b[0;32m     36\u001b[0m                          np.arange(y_min, y_max, plot_step))\n\u001b[1;32m---> 37\u001b[1;33m     \u001b[0mZ\u001b[0m \u001b[1;33m=\u001b[0m \u001b[0mmodel\u001b[0m\u001b[1;33m.\u001b[0m\u001b[0mpredict\u001b[0m\u001b[1;33m(\u001b[0m\u001b[0mnp\u001b[0m\u001b[1;33m.\u001b[0m\u001b[0mc_\u001b[0m\u001b[1;33m[\u001b[0m\u001b[0mxx\u001b[0m\u001b[1;33m.\u001b[0m\u001b[0mravel\u001b[0m\u001b[1;33m(\u001b[0m\u001b[1;33m)\u001b[0m\u001b[1;33m,\u001b[0m \u001b[0myy\u001b[0m\u001b[1;33m.\u001b[0m\u001b[0mravel\u001b[0m\u001b[1;33m(\u001b[0m\u001b[1;33m)\u001b[0m\u001b[1;33m]\u001b[0m\u001b[1;33m)\u001b[0m\u001b[1;33m\u001b[0m\u001b[1;33m\u001b[0m\u001b[0m\n\u001b[0m\u001b[0;32m     38\u001b[0m     \u001b[0mZ\u001b[0m \u001b[1;33m=\u001b[0m \u001b[0mZ\u001b[0m\u001b[1;33m.\u001b[0m\u001b[0mreshape\u001b[0m\u001b[1;33m(\u001b[0m\u001b[0mxx\u001b[0m\u001b[1;33m.\u001b[0m\u001b[0mshape\u001b[0m\u001b[1;33m)\u001b[0m\u001b[1;33m\u001b[0m\u001b[1;33m\u001b[0m\u001b[0m\n\u001b[0;32m     39\u001b[0m     \u001b[0mpyplot\u001b[0m\u001b[1;33m.\u001b[0m\u001b[0mcontour\u001b[0m\u001b[1;33m(\u001b[0m\u001b[0mxx\u001b[0m\u001b[1;33m,\u001b[0m \u001b[0myy\u001b[0m\u001b[1;33m,\u001b[0m \u001b[0mZ\u001b[0m\u001b[1;33m,\u001b[0m\u001b[0mcolors\u001b[0m \u001b[1;33m=\u001b[0m \u001b[1;34m'k'\u001b[0m\u001b[1;33m,\u001b[0m\u001b[0mlinewidths\u001b[0m \u001b[1;33m=\u001b[0m \u001b[1;36m3\u001b[0m\u001b[1;33m)\u001b[0m\u001b[1;33m\u001b[0m\u001b[1;33m\u001b[0m\u001b[0m\n",
      "\u001b[1;32m~\\anaconda3\\lib\\site-packages\\sklearn\\svm\\_base.py\u001b[0m in \u001b[0;36mpredict\u001b[1;34m(self, X)\u001b[0m\n\u001b[0;32m    622\u001b[0m             \u001b[0my\u001b[0m \u001b[1;33m=\u001b[0m \u001b[0mnp\u001b[0m\u001b[1;33m.\u001b[0m\u001b[0margmax\u001b[0m\u001b[1;33m(\u001b[0m\u001b[0mself\u001b[0m\u001b[1;33m.\u001b[0m\u001b[0mdecision_function\u001b[0m\u001b[1;33m(\u001b[0m\u001b[0mX\u001b[0m\u001b[1;33m)\u001b[0m\u001b[1;33m,\u001b[0m \u001b[0maxis\u001b[0m\u001b[1;33m=\u001b[0m\u001b[1;36m1\u001b[0m\u001b[1;33m)\u001b[0m\u001b[1;33m\u001b[0m\u001b[1;33m\u001b[0m\u001b[0m\n\u001b[0;32m    623\u001b[0m         \u001b[1;32melse\u001b[0m\u001b[1;33m:\u001b[0m\u001b[1;33m\u001b[0m\u001b[1;33m\u001b[0m\u001b[0m\n\u001b[1;32m--> 624\u001b[1;33m             \u001b[0my\u001b[0m \u001b[1;33m=\u001b[0m \u001b[0msuper\u001b[0m\u001b[1;33m(\u001b[0m\u001b[1;33m)\u001b[0m\u001b[1;33m.\u001b[0m\u001b[0mpredict\u001b[0m\u001b[1;33m(\u001b[0m\u001b[0mX\u001b[0m\u001b[1;33m)\u001b[0m\u001b[1;33m\u001b[0m\u001b[1;33m\u001b[0m\u001b[0m\n\u001b[0m\u001b[0;32m    625\u001b[0m         \u001b[1;32mreturn\u001b[0m \u001b[0mself\u001b[0m\u001b[1;33m.\u001b[0m\u001b[0mclasses_\u001b[0m\u001b[1;33m.\u001b[0m\u001b[0mtake\u001b[0m\u001b[1;33m(\u001b[0m\u001b[0mnp\u001b[0m\u001b[1;33m.\u001b[0m\u001b[0masarray\u001b[0m\u001b[1;33m(\u001b[0m\u001b[0my\u001b[0m\u001b[1;33m,\u001b[0m \u001b[0mdtype\u001b[0m\u001b[1;33m=\u001b[0m\u001b[0mnp\u001b[0m\u001b[1;33m.\u001b[0m\u001b[0mintp\u001b[0m\u001b[1;33m)\u001b[0m\u001b[1;33m)\u001b[0m\u001b[1;33m\u001b[0m\u001b[1;33m\u001b[0m\u001b[0m\n\u001b[0;32m    626\u001b[0m \u001b[1;33m\u001b[0m\u001b[0m\n",
      "\u001b[1;32m~\\anaconda3\\lib\\site-packages\\sklearn\\svm\\_base.py\u001b[0m in \u001b[0;36mpredict\u001b[1;34m(self, X)\u001b[0m\n\u001b[0;32m    340\u001b[0m         \u001b[0my_pred\u001b[0m \u001b[1;33m:\u001b[0m \u001b[0mndarray\u001b[0m \u001b[0mof\u001b[0m \u001b[0mshape\u001b[0m \u001b[1;33m(\u001b[0m\u001b[0mn_samples\u001b[0m\u001b[1;33m,\u001b[0m\u001b[1;33m)\u001b[0m\u001b[1;33m\u001b[0m\u001b[1;33m\u001b[0m\u001b[0m\n\u001b[0;32m    341\u001b[0m         \"\"\"\n\u001b[1;32m--> 342\u001b[1;33m         \u001b[0mX\u001b[0m \u001b[1;33m=\u001b[0m \u001b[0mself\u001b[0m\u001b[1;33m.\u001b[0m\u001b[0m_validate_for_predict\u001b[0m\u001b[1;33m(\u001b[0m\u001b[0mX\u001b[0m\u001b[1;33m)\u001b[0m\u001b[1;33m\u001b[0m\u001b[1;33m\u001b[0m\u001b[0m\n\u001b[0m\u001b[0;32m    343\u001b[0m         \u001b[0mpredict\u001b[0m \u001b[1;33m=\u001b[0m \u001b[0mself\u001b[0m\u001b[1;33m.\u001b[0m\u001b[0m_sparse_predict\u001b[0m \u001b[1;32mif\u001b[0m \u001b[0mself\u001b[0m\u001b[1;33m.\u001b[0m\u001b[0m_sparse\u001b[0m \u001b[1;32melse\u001b[0m \u001b[0mself\u001b[0m\u001b[1;33m.\u001b[0m\u001b[0m_dense_predict\u001b[0m\u001b[1;33m\u001b[0m\u001b[1;33m\u001b[0m\u001b[0m\n\u001b[0;32m    344\u001b[0m         \u001b[1;32mreturn\u001b[0m \u001b[0mpredict\u001b[0m\u001b[1;33m(\u001b[0m\u001b[0mX\u001b[0m\u001b[1;33m)\u001b[0m\u001b[1;33m\u001b[0m\u001b[1;33m\u001b[0m\u001b[0m\n",
      "\u001b[1;32m~\\anaconda3\\lib\\site-packages\\sklearn\\svm\\_base.py\u001b[0m in \u001b[0;36m_validate_for_predict\u001b[1;34m(self, X)\u001b[0m\n\u001b[0;32m    491\u001b[0m                                  (X.shape[1], self.shape_fit_[0]))\n\u001b[0;32m    492\u001b[0m         \u001b[1;32melif\u001b[0m \u001b[1;32mnot\u001b[0m \u001b[0mcallable\u001b[0m\u001b[1;33m(\u001b[0m\u001b[0mself\u001b[0m\u001b[1;33m.\u001b[0m\u001b[0mkernel\u001b[0m\u001b[1;33m)\u001b[0m \u001b[1;32mand\u001b[0m \u001b[0mX\u001b[0m\u001b[1;33m.\u001b[0m\u001b[0mshape\u001b[0m\u001b[1;33m[\u001b[0m\u001b[1;36m1\u001b[0m\u001b[1;33m]\u001b[0m \u001b[1;33m!=\u001b[0m \u001b[0mself\u001b[0m\u001b[1;33m.\u001b[0m\u001b[0mshape_fit_\u001b[0m\u001b[1;33m[\u001b[0m\u001b[1;36m1\u001b[0m\u001b[1;33m]\u001b[0m\u001b[1;33m:\u001b[0m\u001b[1;33m\u001b[0m\u001b[1;33m\u001b[0m\u001b[0m\n\u001b[1;32m--> 493\u001b[1;33m             raise ValueError(\"X.shape[1] = %d should be equal to %d, \"\n\u001b[0m\u001b[0;32m    494\u001b[0m                              \u001b[1;34m\"the number of features at training time\"\u001b[0m \u001b[1;33m%\u001b[0m\u001b[1;33m\u001b[0m\u001b[1;33m\u001b[0m\u001b[0m\n\u001b[0;32m    495\u001b[0m                              (X.shape[1], self.shape_fit_[1]))\n",
      "\u001b[1;31mValueError\u001b[0m: X.shape[1] = 2 should be equal to 21, the number of features at training time"
     ]
    }
   ],
   "source": [
    "plot_model(X_test, y_pred, model_C1)"
   ]
  },
  {
   "cell_type": "code",
   "execution_count": null,
   "id": "093280ae",
   "metadata": {},
   "outputs": [],
   "source": []
  }
 ],
 "metadata": {
  "kernelspec": {
   "display_name": "Python 3",
   "language": "python",
   "name": "python3"
  },
  "language_info": {
   "codemirror_mode": {
    "name": "ipython",
    "version": 3
   },
   "file_extension": ".py",
   "mimetype": "text/x-python",
   "name": "python",
   "nbconvert_exporter": "python",
   "pygments_lexer": "ipython3",
   "version": "3.8.8"
  }
 },
 "nbformat": 4,
 "nbformat_minor": 5
}
