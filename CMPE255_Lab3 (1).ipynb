{
  "cells": [
    {
      "cell_type": "code",
      "execution_count": 2,
      "id": "fb51c6be",
      "metadata": {
        "id": "fb51c6be"
      },
      "outputs": [],
      "source": [
        "import pandas as pd\n",
        "import numpy as np\n",
        "import matplotlib.pyplot as plt\n",
        "import seaborn as sns"
      ]
    },
    {
      "cell_type": "code",
      "execution_count": 3,
      "id": "0dafb6e0",
      "metadata": {
        "colab": {
          "base_uri": "https://localhost:8080/",
          "height": 317
        },
        "id": "0dafb6e0",
        "outputId": "5574faa1-b31a-4cd5-f1c4-0e5d99283ddb"
      },
      "outputs": [
        {
          "output_type": "execute_result",
          "data": {
            "text/plain": [
              "   baseline value  accelerations  fetal_movement  uterine_contractions  \\\n",
              "0           120.0          0.000             0.0                 0.000   \n",
              "1           132.0          0.006             0.0                 0.006   \n",
              "2           133.0          0.003             0.0                 0.008   \n",
              "3           134.0          0.003             0.0                 0.008   \n",
              "4           132.0          0.007             0.0                 0.008   \n",
              "\n",
              "   light_decelerations  severe_decelerations  prolongued_decelerations  \\\n",
              "0                0.000                   0.0                       0.0   \n",
              "1                0.003                   0.0                       0.0   \n",
              "2                0.003                   0.0                       0.0   \n",
              "3                0.003                   0.0                       0.0   \n",
              "4                0.000                   0.0                       0.0   \n",
              "\n",
              "   abnormal_short_term_variability  mean_value_of_short_term_variability  \\\n",
              "0                             73.0                                   0.5   \n",
              "1                             17.0                                   2.1   \n",
              "2                             16.0                                   2.1   \n",
              "3                             16.0                                   2.4   \n",
              "4                             16.0                                   2.4   \n",
              "\n",
              "   percentage_of_time_with_abnormal_long_term_variability  ...  histogram_min  \\\n",
              "0                                               43.0       ...           62.0   \n",
              "1                                                0.0       ...           68.0   \n",
              "2                                                0.0       ...           68.0   \n",
              "3                                                0.0       ...           53.0   \n",
              "4                                                0.0       ...           53.0   \n",
              "\n",
              "   histogram_max  histogram_number_of_peaks  histogram_number_of_zeroes  \\\n",
              "0          126.0                        2.0                         0.0   \n",
              "1          198.0                        6.0                         1.0   \n",
              "2          198.0                        5.0                         1.0   \n",
              "3          170.0                       11.0                         0.0   \n",
              "4          170.0                        9.0                         0.0   \n",
              "\n",
              "   histogram_mode  histogram_mean  histogram_median  histogram_variance  \\\n",
              "0           120.0           137.0             121.0                73.0   \n",
              "1           141.0           136.0             140.0                12.0   \n",
              "2           141.0           135.0             138.0                13.0   \n",
              "3           137.0           134.0             137.0                13.0   \n",
              "4           137.0           136.0             138.0                11.0   \n",
              "\n",
              "   histogram_tendency  fetal_health  \n",
              "0                 1.0           2.0  \n",
              "1                 0.0           1.0  \n",
              "2                 0.0           1.0  \n",
              "3                 1.0           1.0  \n",
              "4                 1.0           1.0  \n",
              "\n",
              "[5 rows x 22 columns]"
            ],
            "text/html": [
              "\n",
              "  <div id=\"df-38359156-d4ae-4c62-8e46-c294b9c5ba84\">\n",
              "    <div class=\"colab-df-container\">\n",
              "      <div>\n",
              "<style scoped>\n",
              "    .dataframe tbody tr th:only-of-type {\n",
              "        vertical-align: middle;\n",
              "    }\n",
              "\n",
              "    .dataframe tbody tr th {\n",
              "        vertical-align: top;\n",
              "    }\n",
              "\n",
              "    .dataframe thead th {\n",
              "        text-align: right;\n",
              "    }\n",
              "</style>\n",
              "<table border=\"1\" class=\"dataframe\">\n",
              "  <thead>\n",
              "    <tr style=\"text-align: right;\">\n",
              "      <th></th>\n",
              "      <th>baseline value</th>\n",
              "      <th>accelerations</th>\n",
              "      <th>fetal_movement</th>\n",
              "      <th>uterine_contractions</th>\n",
              "      <th>light_decelerations</th>\n",
              "      <th>severe_decelerations</th>\n",
              "      <th>prolongued_decelerations</th>\n",
              "      <th>abnormal_short_term_variability</th>\n",
              "      <th>mean_value_of_short_term_variability</th>\n",
              "      <th>percentage_of_time_with_abnormal_long_term_variability</th>\n",
              "      <th>...</th>\n",
              "      <th>histogram_min</th>\n",
              "      <th>histogram_max</th>\n",
              "      <th>histogram_number_of_peaks</th>\n",
              "      <th>histogram_number_of_zeroes</th>\n",
              "      <th>histogram_mode</th>\n",
              "      <th>histogram_mean</th>\n",
              "      <th>histogram_median</th>\n",
              "      <th>histogram_variance</th>\n",
              "      <th>histogram_tendency</th>\n",
              "      <th>fetal_health</th>\n",
              "    </tr>\n",
              "  </thead>\n",
              "  <tbody>\n",
              "    <tr>\n",
              "      <th>0</th>\n",
              "      <td>120.0</td>\n",
              "      <td>0.000</td>\n",
              "      <td>0.0</td>\n",
              "      <td>0.000</td>\n",
              "      <td>0.000</td>\n",
              "      <td>0.0</td>\n",
              "      <td>0.0</td>\n",
              "      <td>73.0</td>\n",
              "      <td>0.5</td>\n",
              "      <td>43.0</td>\n",
              "      <td>...</td>\n",
              "      <td>62.0</td>\n",
              "      <td>126.0</td>\n",
              "      <td>2.0</td>\n",
              "      <td>0.0</td>\n",
              "      <td>120.0</td>\n",
              "      <td>137.0</td>\n",
              "      <td>121.0</td>\n",
              "      <td>73.0</td>\n",
              "      <td>1.0</td>\n",
              "      <td>2.0</td>\n",
              "    </tr>\n",
              "    <tr>\n",
              "      <th>1</th>\n",
              "      <td>132.0</td>\n",
              "      <td>0.006</td>\n",
              "      <td>0.0</td>\n",
              "      <td>0.006</td>\n",
              "      <td>0.003</td>\n",
              "      <td>0.0</td>\n",
              "      <td>0.0</td>\n",
              "      <td>17.0</td>\n",
              "      <td>2.1</td>\n",
              "      <td>0.0</td>\n",
              "      <td>...</td>\n",
              "      <td>68.0</td>\n",
              "      <td>198.0</td>\n",
              "      <td>6.0</td>\n",
              "      <td>1.0</td>\n",
              "      <td>141.0</td>\n",
              "      <td>136.0</td>\n",
              "      <td>140.0</td>\n",
              "      <td>12.0</td>\n",
              "      <td>0.0</td>\n",
              "      <td>1.0</td>\n",
              "    </tr>\n",
              "    <tr>\n",
              "      <th>2</th>\n",
              "      <td>133.0</td>\n",
              "      <td>0.003</td>\n",
              "      <td>0.0</td>\n",
              "      <td>0.008</td>\n",
              "      <td>0.003</td>\n",
              "      <td>0.0</td>\n",
              "      <td>0.0</td>\n",
              "      <td>16.0</td>\n",
              "      <td>2.1</td>\n",
              "      <td>0.0</td>\n",
              "      <td>...</td>\n",
              "      <td>68.0</td>\n",
              "      <td>198.0</td>\n",
              "      <td>5.0</td>\n",
              "      <td>1.0</td>\n",
              "      <td>141.0</td>\n",
              "      <td>135.0</td>\n",
              "      <td>138.0</td>\n",
              "      <td>13.0</td>\n",
              "      <td>0.0</td>\n",
              "      <td>1.0</td>\n",
              "    </tr>\n",
              "    <tr>\n",
              "      <th>3</th>\n",
              "      <td>134.0</td>\n",
              "      <td>0.003</td>\n",
              "      <td>0.0</td>\n",
              "      <td>0.008</td>\n",
              "      <td>0.003</td>\n",
              "      <td>0.0</td>\n",
              "      <td>0.0</td>\n",
              "      <td>16.0</td>\n",
              "      <td>2.4</td>\n",
              "      <td>0.0</td>\n",
              "      <td>...</td>\n",
              "      <td>53.0</td>\n",
              "      <td>170.0</td>\n",
              "      <td>11.0</td>\n",
              "      <td>0.0</td>\n",
              "      <td>137.0</td>\n",
              "      <td>134.0</td>\n",
              "      <td>137.0</td>\n",
              "      <td>13.0</td>\n",
              "      <td>1.0</td>\n",
              "      <td>1.0</td>\n",
              "    </tr>\n",
              "    <tr>\n",
              "      <th>4</th>\n",
              "      <td>132.0</td>\n",
              "      <td>0.007</td>\n",
              "      <td>0.0</td>\n",
              "      <td>0.008</td>\n",
              "      <td>0.000</td>\n",
              "      <td>0.0</td>\n",
              "      <td>0.0</td>\n",
              "      <td>16.0</td>\n",
              "      <td>2.4</td>\n",
              "      <td>0.0</td>\n",
              "      <td>...</td>\n",
              "      <td>53.0</td>\n",
              "      <td>170.0</td>\n",
              "      <td>9.0</td>\n",
              "      <td>0.0</td>\n",
              "      <td>137.0</td>\n",
              "      <td>136.0</td>\n",
              "      <td>138.0</td>\n",
              "      <td>11.0</td>\n",
              "      <td>1.0</td>\n",
              "      <td>1.0</td>\n",
              "    </tr>\n",
              "  </tbody>\n",
              "</table>\n",
              "<p>5 rows × 22 columns</p>\n",
              "</div>\n",
              "      <button class=\"colab-df-convert\" onclick=\"convertToInteractive('df-38359156-d4ae-4c62-8e46-c294b9c5ba84')\"\n",
              "              title=\"Convert this dataframe to an interactive table.\"\n",
              "              style=\"display:none;\">\n",
              "        \n",
              "  <svg xmlns=\"http://www.w3.org/2000/svg\" height=\"24px\"viewBox=\"0 0 24 24\"\n",
              "       width=\"24px\">\n",
              "    <path d=\"M0 0h24v24H0V0z\" fill=\"none\"/>\n",
              "    <path d=\"M18.56 5.44l.94 2.06.94-2.06 2.06-.94-2.06-.94-.94-2.06-.94 2.06-2.06.94zm-11 1L8.5 8.5l.94-2.06 2.06-.94-2.06-.94L8.5 2.5l-.94 2.06-2.06.94zm10 10l.94 2.06.94-2.06 2.06-.94-2.06-.94-.94-2.06-.94 2.06-2.06.94z\"/><path d=\"M17.41 7.96l-1.37-1.37c-.4-.4-.92-.59-1.43-.59-.52 0-1.04.2-1.43.59L10.3 9.45l-7.72 7.72c-.78.78-.78 2.05 0 2.83L4 21.41c.39.39.9.59 1.41.59.51 0 1.02-.2 1.41-.59l7.78-7.78 2.81-2.81c.8-.78.8-2.07 0-2.86zM5.41 20L4 18.59l7.72-7.72 1.47 1.35L5.41 20z\"/>\n",
              "  </svg>\n",
              "      </button>\n",
              "      \n",
              "  <style>\n",
              "    .colab-df-container {\n",
              "      display:flex;\n",
              "      flex-wrap:wrap;\n",
              "      gap: 12px;\n",
              "    }\n",
              "\n",
              "    .colab-df-convert {\n",
              "      background-color: #E8F0FE;\n",
              "      border: none;\n",
              "      border-radius: 50%;\n",
              "      cursor: pointer;\n",
              "      display: none;\n",
              "      fill: #1967D2;\n",
              "      height: 32px;\n",
              "      padding: 0 0 0 0;\n",
              "      width: 32px;\n",
              "    }\n",
              "\n",
              "    .colab-df-convert:hover {\n",
              "      background-color: #E2EBFA;\n",
              "      box-shadow: 0px 1px 2px rgba(60, 64, 67, 0.3), 0px 1px 3px 1px rgba(60, 64, 67, 0.15);\n",
              "      fill: #174EA6;\n",
              "    }\n",
              "\n",
              "    [theme=dark] .colab-df-convert {\n",
              "      background-color: #3B4455;\n",
              "      fill: #D2E3FC;\n",
              "    }\n",
              "\n",
              "    [theme=dark] .colab-df-convert:hover {\n",
              "      background-color: #434B5C;\n",
              "      box-shadow: 0px 1px 3px 1px rgba(0, 0, 0, 0.15);\n",
              "      filter: drop-shadow(0px 1px 2px rgba(0, 0, 0, 0.3));\n",
              "      fill: #FFFFFF;\n",
              "    }\n",
              "  </style>\n",
              "\n",
              "      <script>\n",
              "        const buttonEl =\n",
              "          document.querySelector('#df-38359156-d4ae-4c62-8e46-c294b9c5ba84 button.colab-df-convert');\n",
              "        buttonEl.style.display =\n",
              "          google.colab.kernel.accessAllowed ? 'block' : 'none';\n",
              "\n",
              "        async function convertToInteractive(key) {\n",
              "          const element = document.querySelector('#df-38359156-d4ae-4c62-8e46-c294b9c5ba84');\n",
              "          const dataTable =\n",
              "            await google.colab.kernel.invokeFunction('convertToInteractive',\n",
              "                                                     [key], {});\n",
              "          if (!dataTable) return;\n",
              "\n",
              "          const docLinkHtml = 'Like what you see? Visit the ' +\n",
              "            '<a target=\"_blank\" href=https://colab.research.google.com/notebooks/data_table.ipynb>data table notebook</a>'\n",
              "            + ' to learn more about interactive tables.';\n",
              "          element.innerHTML = '';\n",
              "          dataTable['output_type'] = 'display_data';\n",
              "          await google.colab.output.renderOutput(dataTable, element);\n",
              "          const docLink = document.createElement('div');\n",
              "          docLink.innerHTML = docLinkHtml;\n",
              "          element.appendChild(docLink);\n",
              "        }\n",
              "      </script>\n",
              "    </div>\n",
              "  </div>\n",
              "  "
            ]
          },
          "metadata": {},
          "execution_count": 3
        }
      ],
      "source": [
        "health = pd.read_csv('fetal_health.csv')\n",
        "health_copy = health.copy()\n",
        "health.head(5)"
      ]
    },
    {
      "cell_type": "code",
      "execution_count": null,
      "id": "c7f0a4d4",
      "metadata": {
        "scrolled": false,
        "id": "c7f0a4d4",
        "outputId": "8a102cf7-2f50-418f-b325-0a81ef3cf28b"
      },
      "outputs": [
        {
          "data": {
            "text/plain": [
              "Index(['baseline value', 'accelerations', 'fetal_movement',\n",
              "       'uterine_contractions', 'light_decelerations', 'severe_decelerations',\n",
              "       'prolongued_decelerations', 'abnormal_short_term_variability',\n",
              "       'mean_value_of_short_term_variability',\n",
              "       'percentage_of_time_with_abnormal_long_term_variability',\n",
              "       'mean_value_of_long_term_variability', 'histogram_width',\n",
              "       'histogram_min', 'histogram_max', 'histogram_number_of_peaks',\n",
              "       'histogram_number_of_zeroes', 'histogram_mode', 'histogram_mean',\n",
              "       'histogram_median', 'histogram_variance', 'histogram_tendency',\n",
              "       'fetal_health'],\n",
              "      dtype='object')"
            ]
          },
          "execution_count": 106,
          "metadata": {},
          "output_type": "execute_result"
        }
      ],
      "source": [
        "health.columns"
      ]
    },
    {
      "cell_type": "code",
      "execution_count": 6,
      "id": "47bea3e5",
      "metadata": {
        "id": "47bea3e5"
      },
      "outputs": [],
      "source": [
        "X = health.iloc[:, :-1].values\n",
        "y = health.iloc[:, -1].values"
      ]
    },
    {
      "cell_type": "code",
      "execution_count": 8,
      "id": "6e5aa8f5",
      "metadata": {
        "colab": {
          "base_uri": "https://localhost:8080/"
        },
        "id": "6e5aa8f5",
        "outputId": "e22d49fa-96d0-4e9b-c633-1dbd9595aa13"
      },
      "outputs": [
        {
          "output_type": "execute_result",
          "data": {
            "text/plain": [
              "array([2., 1., 1., ..., 2., 2., 1.])"
            ]
          },
          "metadata": {},
          "execution_count": 8
        }
      ],
      "source": [
        "y"
      ]
    },
    {
      "cell_type": "code",
      "execution_count": 9,
      "id": "4a81cb44",
      "metadata": {
        "id": "4a81cb44"
      },
      "outputs": [],
      "source": [
        "from sklearn.preprocessing import StandardScaler\n",
        "sc = StandardScaler()\n",
        "X_scaled = sc.fit_transform(X)\n"
      ]
    },
    {
      "cell_type": "code",
      "execution_count": 10,
      "id": "69486776",
      "metadata": {
        "id": "69486776"
      },
      "outputs": [],
      "source": [
        "from sklearn.model_selection import train_test_split\n",
        "X_train, X_test, y_train, y_test = train_test_split(X_scaled, y, test_size = 0.25, random_state = 0)"
      ]
    },
    {
      "cell_type": "code",
      "execution_count": 11,
      "id": "ba2bd608",
      "metadata": {
        "colab": {
          "base_uri": "https://localhost:8080/"
        },
        "id": "ba2bd608",
        "outputId": "8c0243e8-0b6a-460c-a83c-b677cc233b80"
      },
      "outputs": [
        {
          "output_type": "execute_result",
          "data": {
            "text/plain": [
              "array([[-1.35222005, -0.8223883 , -0.20320955, ..., -1.18164215,\n",
              "         1.87056871,  1.11298001],\n",
              "       [-0.1325256 ,  0.73013282, -0.20320955, ...,  0.13203796,\n",
              "        -0.23499819, -0.52452553],\n",
              "       [-0.03088439, -0.04612774, -0.20320955, ..., -0.00624416,\n",
              "        -0.2004807 , -0.52452553],\n",
              "       ...,\n",
              "       [ 0.68060404, -0.56363478, -0.20320955, ...,  0.96173066,\n",
              "        -0.51113811,  1.11298001],\n",
              "       [ 0.68060404, -0.56363478, -0.20320955, ...,  0.8925896 ,\n",
              "        -0.51113811,  1.11298001],\n",
              "       [ 0.88388645, -0.30488126, -0.16034157, ...,  0.47774325,\n",
              "        -0.61469058, -0.52452553]])"
            ]
          },
          "metadata": {},
          "execution_count": 11
        }
      ],
      "source": [
        "X_scaled"
      ]
    },
    {
      "cell_type": "code",
      "execution_count": 12,
      "id": "eca0c604",
      "metadata": {
        "id": "eca0c604"
      },
      "outputs": [],
      "source": [
        "from sklearn.svm import SVC"
      ]
    },
    {
      "cell_type": "code",
      "execution_count": 13,
      "id": "d23ff305",
      "metadata": {
        "colab": {
          "base_uri": "https://localhost:8080/"
        },
        "id": "d23ff305",
        "outputId": "2f3caefd-47b3-41de-eec4-828490aeefc1"
      },
      "outputs": [
        {
          "output_type": "execute_result",
          "data": {
            "text/plain": [
              "0.9060150375939849"
            ]
          },
          "metadata": {},
          "execution_count": 13
        }
      ],
      "source": [
        "model_C1 = SVC(C=1)\n",
        "model_C1.fit(X_train, y_train)\n",
        "clf_c1 = model_C1.fit(X_train, y_train)\n",
        "model_C1.score(X_test, y_test)"
      ]
    },
    {
      "cell_type": "code",
      "execution_count": 14,
      "id": "631a97f0",
      "metadata": {
        "colab": {
          "base_uri": "https://localhost:8080/"
        },
        "id": "631a97f0",
        "outputId": "1bc8d60b-2131-4749-b13c-0137422d98af"
      },
      "outputs": [
        {
          "output_type": "execute_result",
          "data": {
            "text/plain": [
              "0.9229323308270677"
            ]
          },
          "metadata": {},
          "execution_count": 14
        }
      ],
      "source": [
        "model_C10 = SVC(C=10)\n",
        "model_C10.fit(X_train, y_train)\n",
        "clf_c10 = model_C10.fit(X_train, y_train)\n",
        "model_C10.score(X_test, y_test)"
      ]
    },
    {
      "cell_type": "code",
      "execution_count": 15,
      "id": "89dd22ef",
      "metadata": {
        "colab": {
          "base_uri": "https://localhost:8080/"
        },
        "id": "89dd22ef",
        "outputId": "3b2b4707-1b9f-47d0-f18f-a637d52293b7"
      },
      "outputs": [
        {
          "output_type": "execute_result",
          "data": {
            "text/plain": [
              "0.9229323308270677"
            ]
          },
          "metadata": {},
          "execution_count": 15
        }
      ],
      "source": [
        "model_C50 = SVC(C=50)\n",
        "model_C50.fit(X_train, y_train)\n",
        "clf_c50 = model_C50.fit(X_train, y_train)\n",
        "model_C50.score(X_test, y_test)"
      ]
    },
    {
      "cell_type": "code",
      "execution_count": 16,
      "id": "95545e63",
      "metadata": {
        "id": "95545e63"
      },
      "outputs": [],
      "source": [
        "from sklearn.model_selection import cross_val_score"
      ]
    },
    {
      "cell_type": "code",
      "execution_count": 17,
      "id": "717766c8",
      "metadata": {
        "colab": {
          "base_uri": "https://localhost:8080/"
        },
        "id": "717766c8",
        "outputId": "8f75e52f-e73f-407a-9fd5-b558ccc3389b"
      },
      "outputs": [
        {
          "output_type": "execute_result",
          "data": {
            "text/plain": [
              "0.8410178049428648"
            ]
          },
          "metadata": {},
          "execution_count": 17
        }
      ],
      "source": [
        "scores1 = cross_val_score(model_C1,X,y, cv=10)\n",
        "np.average(scores1)"
      ]
    },
    {
      "cell_type": "code",
      "execution_count": 18,
      "id": "9d6703e6",
      "metadata": {
        "colab": {
          "base_uri": "https://localhost:8080/"
        },
        "id": "9d6703e6",
        "outputId": "826f363a-1318-4a55-9d69-5bd90783573f"
      },
      "outputs": [
        {
          "output_type": "execute_result",
          "data": {
            "text/plain": [
              "0.8498693418371867"
            ]
          },
          "metadata": {},
          "execution_count": 18
        }
      ],
      "source": [
        "scores10 = cross_val_score(model_C10,X,y, cv=10)\n",
        "np.average(scores10)"
      ]
    },
    {
      "cell_type": "code",
      "execution_count": 19,
      "id": "21c12012",
      "metadata": {
        "colab": {
          "base_uri": "https://localhost:8080/"
        },
        "id": "21c12012",
        "outputId": "60ff94be-3c4e-47d3-87fa-bdadf778348f"
      },
      "outputs": [
        {
          "output_type": "execute_result",
          "data": {
            "text/plain": [
              "0.8465718841349987"
            ]
          },
          "metadata": {},
          "execution_count": 19
        }
      ],
      "source": [
        "scores50 = cross_val_score(model_C50,X,y, cv=10)\n",
        "np.average(scores50)"
      ]
    },
    {
      "cell_type": "code",
      "execution_count": 20,
      "id": "b3f77c84",
      "metadata": {
        "scrolled": false,
        "colab": {
          "base_uri": "https://localhost:8080/"
        },
        "id": "b3f77c84",
        "outputId": "3af723f5-f7c7-4ba5-f236-92a877d7e095"
      },
      "outputs": [
        {
          "output_type": "execute_result",
          "data": {
            "text/plain": [
              "{'mean_fit_time': array([0.05702829, 0.04652314, 0.0519362 , 0.13078723, 0.05181084,\n",
              "        0.61469221]),\n",
              " 'mean_score_time': array([0.01805406, 0.00560021, 0.0149384 , 0.00499692, 0.01313639,\n",
              "        0.00514355]),\n",
              " 'mean_test_score': array([0.84572328, 0.84148688, 0.84055012, 0.84054681, 0.83772549,\n",
              "        0.84148799]),\n",
              " 'param_C': masked_array(data=[1, 1, 10, 10, 50, 50],\n",
              "              mask=[False, False, False, False, False, False],\n",
              "        fill_value='?',\n",
              "             dtype=object),\n",
              " 'param_kernel': masked_array(data=['rbf', 'linear', 'rbf', 'linear', 'rbf', 'linear'],\n",
              "              mask=[False, False, False, False, False, False],\n",
              "        fill_value='?',\n",
              "             dtype=object),\n",
              " 'params': [{'C': 1, 'kernel': 'rbf'},\n",
              "  {'C': 1, 'kernel': 'linear'},\n",
              "  {'C': 10, 'kernel': 'rbf'},\n",
              "  {'C': 10, 'kernel': 'linear'},\n",
              "  {'C': 50, 'kernel': 'rbf'},\n",
              "  {'C': 50, 'kernel': 'linear'}],\n",
              " 'rank_test_score': array([1, 3, 4, 5, 6, 2], dtype=int32),\n",
              " 'split0_test_score': array([0.83802817, 0.84037559, 0.83098592, 0.83802817, 0.83333333,\n",
              "        0.83802817]),\n",
              " 'split1_test_score': array([0.86117647, 0.85411765, 0.86117647, 0.85882353, 0.86588235,\n",
              "        0.86117647]),\n",
              " 'split2_test_score': array([0.91058824, 0.90823529, 0.91294118, 0.90588235, 0.91058824,\n",
              "        0.90588235]),\n",
              " 'split3_test_score': array([0.87764706, 0.88941176, 0.87529412, 0.88941176, 0.86352941,\n",
              "        0.89176471]),\n",
              " 'split4_test_score': array([0.74117647, 0.71529412, 0.72235294, 0.71058824, 0.71529412,\n",
              "        0.71058824]),\n",
              " 'std_fit_time': array([0.00305671, 0.00446765, 0.00390345, 0.01050958, 0.004009  ,\n",
              "        0.15225509]),\n",
              " 'std_score_time': array([0.00112644, 0.00069121, 0.0007548 , 0.00035734, 0.00061598,\n",
              "        0.0005543 ]),\n",
              " 'std_test_score': array([0.05736661, 0.06758333, 0.06470719, 0.06911748, 0.06599449,\n",
              "        0.06958266])}"
            ]
          },
          "metadata": {},
          "execution_count": 20
        }
      ],
      "source": [
        "from sklearn.model_selection import GridSearchCV\n",
        "clf = GridSearchCV(SVC(gamma='auto'), {\n",
        "    'C': [1,10,50],\n",
        "    'kernel': ['rbf','linear']\n",
        "}, cv=5, return_train_score=False)\n",
        "clf.fit(X_scaled,y)\n",
        "clf.cv_results_"
      ]
    },
    {
      "cell_type": "code",
      "execution_count": 21,
      "id": "0f7cf450",
      "metadata": {
        "scrolled": false,
        "colab": {
          "base_uri": "https://localhost:8080/",
          "height": 510
        },
        "id": "0f7cf450",
        "outputId": "9eeccbba-9519-40a6-83b8-b730cfe66eb5"
      },
      "outputs": [
        {
          "output_type": "execute_result",
          "data": {
            "text/plain": [
              "   mean_fit_time  std_fit_time  mean_score_time  std_score_time param_C  \\\n",
              "0       0.057028      0.003057         0.018054        0.001126       1   \n",
              "1       0.046523      0.004468         0.005600        0.000691       1   \n",
              "2       0.051936      0.003903         0.014938        0.000755      10   \n",
              "3       0.130787      0.010510         0.004997        0.000357      10   \n",
              "4       0.051811      0.004009         0.013136        0.000616      50   \n",
              "5       0.614692      0.152255         0.005144        0.000554      50   \n",
              "\n",
              "  param_kernel                         params  split0_test_score  \\\n",
              "0          rbf      {'C': 1, 'kernel': 'rbf'}           0.838028   \n",
              "1       linear   {'C': 1, 'kernel': 'linear'}           0.840376   \n",
              "2          rbf     {'C': 10, 'kernel': 'rbf'}           0.830986   \n",
              "3       linear  {'C': 10, 'kernel': 'linear'}           0.838028   \n",
              "4          rbf     {'C': 50, 'kernel': 'rbf'}           0.833333   \n",
              "5       linear  {'C': 50, 'kernel': 'linear'}           0.838028   \n",
              "\n",
              "   split1_test_score  split2_test_score  split3_test_score  split4_test_score  \\\n",
              "0           0.861176           0.910588           0.877647           0.741176   \n",
              "1           0.854118           0.908235           0.889412           0.715294   \n",
              "2           0.861176           0.912941           0.875294           0.722353   \n",
              "3           0.858824           0.905882           0.889412           0.710588   \n",
              "4           0.865882           0.910588           0.863529           0.715294   \n",
              "5           0.861176           0.905882           0.891765           0.710588   \n",
              "\n",
              "   mean_test_score  std_test_score  rank_test_score  \n",
              "0         0.845723        0.057367                1  \n",
              "1         0.841487        0.067583                3  \n",
              "2         0.840550        0.064707                4  \n",
              "3         0.840547        0.069117                5  \n",
              "4         0.837725        0.065994                6  \n",
              "5         0.841488        0.069583                2  "
            ],
            "text/html": [
              "\n",
              "  <div id=\"df-7a2d12e5-5403-4b58-b9ca-96b6f79107f8\">\n",
              "    <div class=\"colab-df-container\">\n",
              "      <div>\n",
              "<style scoped>\n",
              "    .dataframe tbody tr th:only-of-type {\n",
              "        vertical-align: middle;\n",
              "    }\n",
              "\n",
              "    .dataframe tbody tr th {\n",
              "        vertical-align: top;\n",
              "    }\n",
              "\n",
              "    .dataframe thead th {\n",
              "        text-align: right;\n",
              "    }\n",
              "</style>\n",
              "<table border=\"1\" class=\"dataframe\">\n",
              "  <thead>\n",
              "    <tr style=\"text-align: right;\">\n",
              "      <th></th>\n",
              "      <th>mean_fit_time</th>\n",
              "      <th>std_fit_time</th>\n",
              "      <th>mean_score_time</th>\n",
              "      <th>std_score_time</th>\n",
              "      <th>param_C</th>\n",
              "      <th>param_kernel</th>\n",
              "      <th>params</th>\n",
              "      <th>split0_test_score</th>\n",
              "      <th>split1_test_score</th>\n",
              "      <th>split2_test_score</th>\n",
              "      <th>split3_test_score</th>\n",
              "      <th>split4_test_score</th>\n",
              "      <th>mean_test_score</th>\n",
              "      <th>std_test_score</th>\n",
              "      <th>rank_test_score</th>\n",
              "    </tr>\n",
              "  </thead>\n",
              "  <tbody>\n",
              "    <tr>\n",
              "      <th>0</th>\n",
              "      <td>0.057028</td>\n",
              "      <td>0.003057</td>\n",
              "      <td>0.018054</td>\n",
              "      <td>0.001126</td>\n",
              "      <td>1</td>\n",
              "      <td>rbf</td>\n",
              "      <td>{'C': 1, 'kernel': 'rbf'}</td>\n",
              "      <td>0.838028</td>\n",
              "      <td>0.861176</td>\n",
              "      <td>0.910588</td>\n",
              "      <td>0.877647</td>\n",
              "      <td>0.741176</td>\n",
              "      <td>0.845723</td>\n",
              "      <td>0.057367</td>\n",
              "      <td>1</td>\n",
              "    </tr>\n",
              "    <tr>\n",
              "      <th>1</th>\n",
              "      <td>0.046523</td>\n",
              "      <td>0.004468</td>\n",
              "      <td>0.005600</td>\n",
              "      <td>0.000691</td>\n",
              "      <td>1</td>\n",
              "      <td>linear</td>\n",
              "      <td>{'C': 1, 'kernel': 'linear'}</td>\n",
              "      <td>0.840376</td>\n",
              "      <td>0.854118</td>\n",
              "      <td>0.908235</td>\n",
              "      <td>0.889412</td>\n",
              "      <td>0.715294</td>\n",
              "      <td>0.841487</td>\n",
              "      <td>0.067583</td>\n",
              "      <td>3</td>\n",
              "    </tr>\n",
              "    <tr>\n",
              "      <th>2</th>\n",
              "      <td>0.051936</td>\n",
              "      <td>0.003903</td>\n",
              "      <td>0.014938</td>\n",
              "      <td>0.000755</td>\n",
              "      <td>10</td>\n",
              "      <td>rbf</td>\n",
              "      <td>{'C': 10, 'kernel': 'rbf'}</td>\n",
              "      <td>0.830986</td>\n",
              "      <td>0.861176</td>\n",
              "      <td>0.912941</td>\n",
              "      <td>0.875294</td>\n",
              "      <td>0.722353</td>\n",
              "      <td>0.840550</td>\n",
              "      <td>0.064707</td>\n",
              "      <td>4</td>\n",
              "    </tr>\n",
              "    <tr>\n",
              "      <th>3</th>\n",
              "      <td>0.130787</td>\n",
              "      <td>0.010510</td>\n",
              "      <td>0.004997</td>\n",
              "      <td>0.000357</td>\n",
              "      <td>10</td>\n",
              "      <td>linear</td>\n",
              "      <td>{'C': 10, 'kernel': 'linear'}</td>\n",
              "      <td>0.838028</td>\n",
              "      <td>0.858824</td>\n",
              "      <td>0.905882</td>\n",
              "      <td>0.889412</td>\n",
              "      <td>0.710588</td>\n",
              "      <td>0.840547</td>\n",
              "      <td>0.069117</td>\n",
              "      <td>5</td>\n",
              "    </tr>\n",
              "    <tr>\n",
              "      <th>4</th>\n",
              "      <td>0.051811</td>\n",
              "      <td>0.004009</td>\n",
              "      <td>0.013136</td>\n",
              "      <td>0.000616</td>\n",
              "      <td>50</td>\n",
              "      <td>rbf</td>\n",
              "      <td>{'C': 50, 'kernel': 'rbf'}</td>\n",
              "      <td>0.833333</td>\n",
              "      <td>0.865882</td>\n",
              "      <td>0.910588</td>\n",
              "      <td>0.863529</td>\n",
              "      <td>0.715294</td>\n",
              "      <td>0.837725</td>\n",
              "      <td>0.065994</td>\n",
              "      <td>6</td>\n",
              "    </tr>\n",
              "    <tr>\n",
              "      <th>5</th>\n",
              "      <td>0.614692</td>\n",
              "      <td>0.152255</td>\n",
              "      <td>0.005144</td>\n",
              "      <td>0.000554</td>\n",
              "      <td>50</td>\n",
              "      <td>linear</td>\n",
              "      <td>{'C': 50, 'kernel': 'linear'}</td>\n",
              "      <td>0.838028</td>\n",
              "      <td>0.861176</td>\n",
              "      <td>0.905882</td>\n",
              "      <td>0.891765</td>\n",
              "      <td>0.710588</td>\n",
              "      <td>0.841488</td>\n",
              "      <td>0.069583</td>\n",
              "      <td>2</td>\n",
              "    </tr>\n",
              "  </tbody>\n",
              "</table>\n",
              "</div>\n",
              "      <button class=\"colab-df-convert\" onclick=\"convertToInteractive('df-7a2d12e5-5403-4b58-b9ca-96b6f79107f8')\"\n",
              "              title=\"Convert this dataframe to an interactive table.\"\n",
              "              style=\"display:none;\">\n",
              "        \n",
              "  <svg xmlns=\"http://www.w3.org/2000/svg\" height=\"24px\"viewBox=\"0 0 24 24\"\n",
              "       width=\"24px\">\n",
              "    <path d=\"M0 0h24v24H0V0z\" fill=\"none\"/>\n",
              "    <path d=\"M18.56 5.44l.94 2.06.94-2.06 2.06-.94-2.06-.94-.94-2.06-.94 2.06-2.06.94zm-11 1L8.5 8.5l.94-2.06 2.06-.94-2.06-.94L8.5 2.5l-.94 2.06-2.06.94zm10 10l.94 2.06.94-2.06 2.06-.94-2.06-.94-.94-2.06-.94 2.06-2.06.94z\"/><path d=\"M17.41 7.96l-1.37-1.37c-.4-.4-.92-.59-1.43-.59-.52 0-1.04.2-1.43.59L10.3 9.45l-7.72 7.72c-.78.78-.78 2.05 0 2.83L4 21.41c.39.39.9.59 1.41.59.51 0 1.02-.2 1.41-.59l7.78-7.78 2.81-2.81c.8-.78.8-2.07 0-2.86zM5.41 20L4 18.59l7.72-7.72 1.47 1.35L5.41 20z\"/>\n",
              "  </svg>\n",
              "      </button>\n",
              "      \n",
              "  <style>\n",
              "    .colab-df-container {\n",
              "      display:flex;\n",
              "      flex-wrap:wrap;\n",
              "      gap: 12px;\n",
              "    }\n",
              "\n",
              "    .colab-df-convert {\n",
              "      background-color: #E8F0FE;\n",
              "      border: none;\n",
              "      border-radius: 50%;\n",
              "      cursor: pointer;\n",
              "      display: none;\n",
              "      fill: #1967D2;\n",
              "      height: 32px;\n",
              "      padding: 0 0 0 0;\n",
              "      width: 32px;\n",
              "    }\n",
              "\n",
              "    .colab-df-convert:hover {\n",
              "      background-color: #E2EBFA;\n",
              "      box-shadow: 0px 1px 2px rgba(60, 64, 67, 0.3), 0px 1px 3px 1px rgba(60, 64, 67, 0.15);\n",
              "      fill: #174EA6;\n",
              "    }\n",
              "\n",
              "    [theme=dark] .colab-df-convert {\n",
              "      background-color: #3B4455;\n",
              "      fill: #D2E3FC;\n",
              "    }\n",
              "\n",
              "    [theme=dark] .colab-df-convert:hover {\n",
              "      background-color: #434B5C;\n",
              "      box-shadow: 0px 1px 3px 1px rgba(0, 0, 0, 0.15);\n",
              "      filter: drop-shadow(0px 1px 2px rgba(0, 0, 0, 0.3));\n",
              "      fill: #FFFFFF;\n",
              "    }\n",
              "  </style>\n",
              "\n",
              "      <script>\n",
              "        const buttonEl =\n",
              "          document.querySelector('#df-7a2d12e5-5403-4b58-b9ca-96b6f79107f8 button.colab-df-convert');\n",
              "        buttonEl.style.display =\n",
              "          google.colab.kernel.accessAllowed ? 'block' : 'none';\n",
              "\n",
              "        async function convertToInteractive(key) {\n",
              "          const element = document.querySelector('#df-7a2d12e5-5403-4b58-b9ca-96b6f79107f8');\n",
              "          const dataTable =\n",
              "            await google.colab.kernel.invokeFunction('convertToInteractive',\n",
              "                                                     [key], {});\n",
              "          if (!dataTable) return;\n",
              "\n",
              "          const docLinkHtml = 'Like what you see? Visit the ' +\n",
              "            '<a target=\"_blank\" href=https://colab.research.google.com/notebooks/data_table.ipynb>data table notebook</a>'\n",
              "            + ' to learn more about interactive tables.';\n",
              "          element.innerHTML = '';\n",
              "          dataTable['output_type'] = 'display_data';\n",
              "          await google.colab.output.renderOutput(dataTable, element);\n",
              "          const docLink = document.createElement('div');\n",
              "          docLink.innerHTML = docLinkHtml;\n",
              "          element.appendChild(docLink);\n",
              "        }\n",
              "      </script>\n",
              "    </div>\n",
              "  </div>\n",
              "  "
            ]
          },
          "metadata": {},
          "execution_count": 21
        }
      ],
      "source": [
        "df = pd.DataFrame(clf.cv_results_)\n",
        "df"
      ]
    },
    {
      "cell_type": "code",
      "execution_count": 22,
      "id": "f598913d",
      "metadata": {
        "colab": {
          "base_uri": "https://localhost:8080/",
          "height": 237
        },
        "id": "f598913d",
        "outputId": "76044bda-8d18-4f01-9ad4-dbf16daac2cf"
      },
      "outputs": [
        {
          "output_type": "execute_result",
          "data": {
            "text/plain": [
              "  param_C param_kernel  mean_test_score\n",
              "0       1          rbf         0.845723\n",
              "1       1       linear         0.841487\n",
              "2      10          rbf         0.840550\n",
              "3      10       linear         0.840547\n",
              "4      50          rbf         0.837725\n",
              "5      50       linear         0.841488"
            ],
            "text/html": [
              "\n",
              "  <div id=\"df-55bc3633-3761-4c0f-9ac1-0e81aa331c90\">\n",
              "    <div class=\"colab-df-container\">\n",
              "      <div>\n",
              "<style scoped>\n",
              "    .dataframe tbody tr th:only-of-type {\n",
              "        vertical-align: middle;\n",
              "    }\n",
              "\n",
              "    .dataframe tbody tr th {\n",
              "        vertical-align: top;\n",
              "    }\n",
              "\n",
              "    .dataframe thead th {\n",
              "        text-align: right;\n",
              "    }\n",
              "</style>\n",
              "<table border=\"1\" class=\"dataframe\">\n",
              "  <thead>\n",
              "    <tr style=\"text-align: right;\">\n",
              "      <th></th>\n",
              "      <th>param_C</th>\n",
              "      <th>param_kernel</th>\n",
              "      <th>mean_test_score</th>\n",
              "    </tr>\n",
              "  </thead>\n",
              "  <tbody>\n",
              "    <tr>\n",
              "      <th>0</th>\n",
              "      <td>1</td>\n",
              "      <td>rbf</td>\n",
              "      <td>0.845723</td>\n",
              "    </tr>\n",
              "    <tr>\n",
              "      <th>1</th>\n",
              "      <td>1</td>\n",
              "      <td>linear</td>\n",
              "      <td>0.841487</td>\n",
              "    </tr>\n",
              "    <tr>\n",
              "      <th>2</th>\n",
              "      <td>10</td>\n",
              "      <td>rbf</td>\n",
              "      <td>0.840550</td>\n",
              "    </tr>\n",
              "    <tr>\n",
              "      <th>3</th>\n",
              "      <td>10</td>\n",
              "      <td>linear</td>\n",
              "      <td>0.840547</td>\n",
              "    </tr>\n",
              "    <tr>\n",
              "      <th>4</th>\n",
              "      <td>50</td>\n",
              "      <td>rbf</td>\n",
              "      <td>0.837725</td>\n",
              "    </tr>\n",
              "    <tr>\n",
              "      <th>5</th>\n",
              "      <td>50</td>\n",
              "      <td>linear</td>\n",
              "      <td>0.841488</td>\n",
              "    </tr>\n",
              "  </tbody>\n",
              "</table>\n",
              "</div>\n",
              "      <button class=\"colab-df-convert\" onclick=\"convertToInteractive('df-55bc3633-3761-4c0f-9ac1-0e81aa331c90')\"\n",
              "              title=\"Convert this dataframe to an interactive table.\"\n",
              "              style=\"display:none;\">\n",
              "        \n",
              "  <svg xmlns=\"http://www.w3.org/2000/svg\" height=\"24px\"viewBox=\"0 0 24 24\"\n",
              "       width=\"24px\">\n",
              "    <path d=\"M0 0h24v24H0V0z\" fill=\"none\"/>\n",
              "    <path d=\"M18.56 5.44l.94 2.06.94-2.06 2.06-.94-2.06-.94-.94-2.06-.94 2.06-2.06.94zm-11 1L8.5 8.5l.94-2.06 2.06-.94-2.06-.94L8.5 2.5l-.94 2.06-2.06.94zm10 10l.94 2.06.94-2.06 2.06-.94-2.06-.94-.94-2.06-.94 2.06-2.06.94z\"/><path d=\"M17.41 7.96l-1.37-1.37c-.4-.4-.92-.59-1.43-.59-.52 0-1.04.2-1.43.59L10.3 9.45l-7.72 7.72c-.78.78-.78 2.05 0 2.83L4 21.41c.39.39.9.59 1.41.59.51 0 1.02-.2 1.41-.59l7.78-7.78 2.81-2.81c.8-.78.8-2.07 0-2.86zM5.41 20L4 18.59l7.72-7.72 1.47 1.35L5.41 20z\"/>\n",
              "  </svg>\n",
              "      </button>\n",
              "      \n",
              "  <style>\n",
              "    .colab-df-container {\n",
              "      display:flex;\n",
              "      flex-wrap:wrap;\n",
              "      gap: 12px;\n",
              "    }\n",
              "\n",
              "    .colab-df-convert {\n",
              "      background-color: #E8F0FE;\n",
              "      border: none;\n",
              "      border-radius: 50%;\n",
              "      cursor: pointer;\n",
              "      display: none;\n",
              "      fill: #1967D2;\n",
              "      height: 32px;\n",
              "      padding: 0 0 0 0;\n",
              "      width: 32px;\n",
              "    }\n",
              "\n",
              "    .colab-df-convert:hover {\n",
              "      background-color: #E2EBFA;\n",
              "      box-shadow: 0px 1px 2px rgba(60, 64, 67, 0.3), 0px 1px 3px 1px rgba(60, 64, 67, 0.15);\n",
              "      fill: #174EA6;\n",
              "    }\n",
              "\n",
              "    [theme=dark] .colab-df-convert {\n",
              "      background-color: #3B4455;\n",
              "      fill: #D2E3FC;\n",
              "    }\n",
              "\n",
              "    [theme=dark] .colab-df-convert:hover {\n",
              "      background-color: #434B5C;\n",
              "      box-shadow: 0px 1px 3px 1px rgba(0, 0, 0, 0.15);\n",
              "      filter: drop-shadow(0px 1px 2px rgba(0, 0, 0, 0.3));\n",
              "      fill: #FFFFFF;\n",
              "    }\n",
              "  </style>\n",
              "\n",
              "      <script>\n",
              "        const buttonEl =\n",
              "          document.querySelector('#df-55bc3633-3761-4c0f-9ac1-0e81aa331c90 button.colab-df-convert');\n",
              "        buttonEl.style.display =\n",
              "          google.colab.kernel.accessAllowed ? 'block' : 'none';\n",
              "\n",
              "        async function convertToInteractive(key) {\n",
              "          const element = document.querySelector('#df-55bc3633-3761-4c0f-9ac1-0e81aa331c90');\n",
              "          const dataTable =\n",
              "            await google.colab.kernel.invokeFunction('convertToInteractive',\n",
              "                                                     [key], {});\n",
              "          if (!dataTable) return;\n",
              "\n",
              "          const docLinkHtml = 'Like what you see? Visit the ' +\n",
              "            '<a target=\"_blank\" href=https://colab.research.google.com/notebooks/data_table.ipynb>data table notebook</a>'\n",
              "            + ' to learn more about interactive tables.';\n",
              "          element.innerHTML = '';\n",
              "          dataTable['output_type'] = 'display_data';\n",
              "          await google.colab.output.renderOutput(dataTable, element);\n",
              "          const docLink = document.createElement('div');\n",
              "          docLink.innerHTML = docLinkHtml;\n",
              "          element.appendChild(docLink);\n",
              "        }\n",
              "      </script>\n",
              "    </div>\n",
              "  </div>\n",
              "  "
            ]
          },
          "metadata": {},
          "execution_count": 22
        }
      ],
      "source": [
        "df[['param_C','param_kernel','mean_test_score']]"
      ]
    },
    {
      "cell_type": "code",
      "execution_count": 23,
      "id": "2b001a42",
      "metadata": {
        "scrolled": true,
        "colab": {
          "base_uri": "https://localhost:8080/",
          "height": 112
        },
        "id": "2b001a42",
        "outputId": "a6f6529a-ce06-46fb-aa04-6127452262ee"
      },
      "outputs": [
        {
          "output_type": "execute_result",
          "data": {
            "text/plain": [
              "  param_C param_kernel  mean_test_score\n",
              "0       1          rbf         0.845722\n",
              "1      50          rbf         0.838198"
            ],
            "text/html": [
              "\n",
              "  <div id=\"df-cb428dcb-576d-45a2-bfcc-aae817ed3a27\">\n",
              "    <div class=\"colab-df-container\">\n",
              "      <div>\n",
              "<style scoped>\n",
              "    .dataframe tbody tr th:only-of-type {\n",
              "        vertical-align: middle;\n",
              "    }\n",
              "\n",
              "    .dataframe tbody tr th {\n",
              "        vertical-align: top;\n",
              "    }\n",
              "\n",
              "    .dataframe thead th {\n",
              "        text-align: right;\n",
              "    }\n",
              "</style>\n",
              "<table border=\"1\" class=\"dataframe\">\n",
              "  <thead>\n",
              "    <tr style=\"text-align: right;\">\n",
              "      <th></th>\n",
              "      <th>param_C</th>\n",
              "      <th>param_kernel</th>\n",
              "      <th>mean_test_score</th>\n",
              "    </tr>\n",
              "  </thead>\n",
              "  <tbody>\n",
              "    <tr>\n",
              "      <th>0</th>\n",
              "      <td>1</td>\n",
              "      <td>rbf</td>\n",
              "      <td>0.845722</td>\n",
              "    </tr>\n",
              "    <tr>\n",
              "      <th>1</th>\n",
              "      <td>50</td>\n",
              "      <td>rbf</td>\n",
              "      <td>0.838198</td>\n",
              "    </tr>\n",
              "  </tbody>\n",
              "</table>\n",
              "</div>\n",
              "      <button class=\"colab-df-convert\" onclick=\"convertToInteractive('df-cb428dcb-576d-45a2-bfcc-aae817ed3a27')\"\n",
              "              title=\"Convert this dataframe to an interactive table.\"\n",
              "              style=\"display:none;\">\n",
              "        \n",
              "  <svg xmlns=\"http://www.w3.org/2000/svg\" height=\"24px\"viewBox=\"0 0 24 24\"\n",
              "       width=\"24px\">\n",
              "    <path d=\"M0 0h24v24H0V0z\" fill=\"none\"/>\n",
              "    <path d=\"M18.56 5.44l.94 2.06.94-2.06 2.06-.94-2.06-.94-.94-2.06-.94 2.06-2.06.94zm-11 1L8.5 8.5l.94-2.06 2.06-.94-2.06-.94L8.5 2.5l-.94 2.06-2.06.94zm10 10l.94 2.06.94-2.06 2.06-.94-2.06-.94-.94-2.06-.94 2.06-2.06.94z\"/><path d=\"M17.41 7.96l-1.37-1.37c-.4-.4-.92-.59-1.43-.59-.52 0-1.04.2-1.43.59L10.3 9.45l-7.72 7.72c-.78.78-.78 2.05 0 2.83L4 21.41c.39.39.9.59 1.41.59.51 0 1.02-.2 1.41-.59l7.78-7.78 2.81-2.81c.8-.78.8-2.07 0-2.86zM5.41 20L4 18.59l7.72-7.72 1.47 1.35L5.41 20z\"/>\n",
              "  </svg>\n",
              "      </button>\n",
              "      \n",
              "  <style>\n",
              "    .colab-df-container {\n",
              "      display:flex;\n",
              "      flex-wrap:wrap;\n",
              "      gap: 12px;\n",
              "    }\n",
              "\n",
              "    .colab-df-convert {\n",
              "      background-color: #E8F0FE;\n",
              "      border: none;\n",
              "      border-radius: 50%;\n",
              "      cursor: pointer;\n",
              "      display: none;\n",
              "      fill: #1967D2;\n",
              "      height: 32px;\n",
              "      padding: 0 0 0 0;\n",
              "      width: 32px;\n",
              "    }\n",
              "\n",
              "    .colab-df-convert:hover {\n",
              "      background-color: #E2EBFA;\n",
              "      box-shadow: 0px 1px 2px rgba(60, 64, 67, 0.3), 0px 1px 3px 1px rgba(60, 64, 67, 0.15);\n",
              "      fill: #174EA6;\n",
              "    }\n",
              "\n",
              "    [theme=dark] .colab-df-convert {\n",
              "      background-color: #3B4455;\n",
              "      fill: #D2E3FC;\n",
              "    }\n",
              "\n",
              "    [theme=dark] .colab-df-convert:hover {\n",
              "      background-color: #434B5C;\n",
              "      box-shadow: 0px 1px 3px 1px rgba(0, 0, 0, 0.15);\n",
              "      filter: drop-shadow(0px 1px 2px rgba(0, 0, 0, 0.3));\n",
              "      fill: #FFFFFF;\n",
              "    }\n",
              "  </style>\n",
              "\n",
              "      <script>\n",
              "        const buttonEl =\n",
              "          document.querySelector('#df-cb428dcb-576d-45a2-bfcc-aae817ed3a27 button.colab-df-convert');\n",
              "        buttonEl.style.display =\n",
              "          google.colab.kernel.accessAllowed ? 'block' : 'none';\n",
              "\n",
              "        async function convertToInteractive(key) {\n",
              "          const element = document.querySelector('#df-cb428dcb-576d-45a2-bfcc-aae817ed3a27');\n",
              "          const dataTable =\n",
              "            await google.colab.kernel.invokeFunction('convertToInteractive',\n",
              "                                                     [key], {});\n",
              "          if (!dataTable) return;\n",
              "\n",
              "          const docLinkHtml = 'Like what you see? Visit the ' +\n",
              "            '<a target=\"_blank\" href=https://colab.research.google.com/notebooks/data_table.ipynb>data table notebook</a>'\n",
              "            + ' to learn more about interactive tables.';\n",
              "          element.innerHTML = '';\n",
              "          dataTable['output_type'] = 'display_data';\n",
              "          await google.colab.output.renderOutput(dataTable, element);\n",
              "          const docLink = document.createElement('div');\n",
              "          docLink.innerHTML = docLinkHtml;\n",
              "          element.appendChild(docLink);\n",
              "        }\n",
              "      </script>\n",
              "    </div>\n",
              "  </div>\n",
              "  "
            ]
          },
          "metadata": {},
          "execution_count": 23
        }
      ],
      "source": [
        "from sklearn.model_selection import RandomizedSearchCV\n",
        "rs = RandomizedSearchCV(SVC(), {\n",
        "        'C': [1,10,50],\n",
        "        'kernel': ['rbf','linear']\n",
        "    }, \n",
        "    cv=5, \n",
        "    return_train_score=False, \n",
        "    n_iter=2\n",
        ")\n",
        "rs.fit(X_scaled,y)\n",
        "pd.DataFrame(rs.cv_results_)[['param_C','param_kernel','mean_test_score']]"
      ]
    },
    {
      "cell_type": "code",
      "execution_count": 24,
      "id": "565ef5c9",
      "metadata": {
        "id": "565ef5c9"
      },
      "outputs": [],
      "source": [
        "def plot_points(features, labels):\n",
        "    X = np.array(features)\n",
        "    y = np.array(labels)\n",
        "    spam = X[np.argwhere(y==1)]\n",
        "    ham = X[np.argwhere(y==2)]\n",
        "    star = X[np.argwhere(y==3)]\n",
        "    plt.scatter([s[0][0] for s in spam],\n",
        "                   [s[0][1] for s in spam],\n",
        "                   s = 25,\n",
        "                   color = 'cyan',\n",
        "                   edgecolor = 'k',\n",
        "                   marker = '^')\n",
        "    plt.scatter([s[0][0] for s in ham],\n",
        "                   [s[0][1] for s in ham],\n",
        "                   s = 25,\n",
        "                   color = 'red',\n",
        "                   edgecolor = 'k',\n",
        "                   marker = 's')\n",
        "    plt.scatter([s[0][0] for s in star],\n",
        "                   [s[0][1] for s in star],\n",
        "                   s = 25,\n",
        "                   color = 'yellow',\n",
        "                   edgecolor = 'k',\n",
        "                   marker = 's')\n",
        "    plt.xlabel('X_test')\n",
        "    plt.ylabel('Y_test')\n",
        "    plt.legend(['label 2','label 1','label 0'])\n",
        "\n",
        "# def plot_model(X, y, model):\n",
        "#     X = np.array(X)\n",
        "#     y = np.array(y)\n",
        "#     plot_step = 0.01\n",
        "#     x_min, x_max = X[:, 0].min() - 1, X[:, 0].max() + 1\n",
        "#     y_min, y_max = X[:, 1].min() - 1, X[:, 1].max() + 1\n",
        "#     xx, yy = np.meshgrid(np.arange(x_min, x_max, plot_step),\n",
        "#                          np.arange(y_min, y_max, plot_step))\n",
        "#     Z = model.predict(np.c_[xx.ravel(), yy.ravel()])\n",
        "#     Z = Z.reshape(xx.shape)\n",
        "#     pyplot.contour(xx, yy, Z,colors = 'k',linewidths = 3)\n",
        "#     plot_points(X, y)\n",
        "#     pyplot.contourf(xx, yy, Z, colors=['red', 'blue'], alpha=0.2, levels=range(-1,2))\n",
        "#     pyplot.show()"
      ]
    },
    {
      "cell_type": "markdown",
      "id": "ea068a6c",
      "metadata": {
        "id": "ea068a6c"
      },
      "source": [
        "SVM with C = 1"
      ]
    },
    {
      "cell_type": "code",
      "execution_count": 38,
      "id": "02e9b094",
      "metadata": {
        "scrolled": false,
        "colab": {
          "base_uri": "https://localhost:8080/",
          "height": 384
        },
        "id": "02e9b094",
        "outputId": "c5699c7d-7ac6-425c-bf4f-d8d12b6509f5"
      },
      "outputs": [
        {
          "output_type": "stream",
          "name": "stdout",
          "text": [
            "Accuracy    :  0.9060150375939849\n",
            "Recall      :  0.8033604336043361\n",
            "Precision   :  0.8560185393436259\n",
            "Confusion Matrix:  [[395  12   3]\n",
            " [ 23  48   1]\n",
            " [  5   6  39]]\n"
          ]
        },
        {
          "output_type": "display_data",
          "data": {
            "text/plain": [
              "<Figure size 432x288 with 1 Axes>"
            ],
            "image/png": "[encoded data removed]"
          },
          "metadata": {
            "needs_background": "light"
          }
        }
      ],
      "source": [
        "from sklearn.metrics import accuracy_score, recall_score, precision_score, confusion_matrix\n",
        "y_pred_c1 = model_C1.predict(X_test)\n",
        "plot_points(X_test, y_pred_c1)\n",
        "accuracy = accuracy_score(y_test, y_pred_c1)\n",
        "recall = recall_score(y_test, y_pred_c1, average=\"macro\")\n",
        "precision = precision_score(y_test, y_pred_c1,average=\"macro\")\n",
        "cf_matrix = confusion_matrix(y_test, y_pred_c1)\n",
        "\n",
        "print(\"Accuracy    : \", accuracy)\n",
        "print(\"Recall      : \", recall)\n",
        "print(\"Precision   : \", precision)\n",
        "print(\"Confusion Matrix: \", cf_matrix)"
      ]
    },
    {
      "cell_type": "markdown",
      "id": "28687854",
      "metadata": {
        "id": "28687854"
      },
      "source": [
        "SVM with C = 10"
      ]
    },
    {
      "cell_type": "code",
      "execution_count": 42,
      "id": "60a34f62",
      "metadata": {
        "scrolled": true,
        "colab": {
          "base_uri": "https://localhost:8080/",
          "height": 384
        },
        "id": "60a34f62",
        "outputId": "7f335f04-0c5d-4540-b27b-7bcb5280626c"
      },
      "outputs": [
        {
          "output_type": "stream",
          "name": "stdout",
          "text": [
            "Accuracy    :  0.9229323308270677\n",
            "Recall      :  0.8414679313459801\n",
            "Precision   :  0.8763292728967786\n",
            "Confusion Matrix:  [[397  10   3]\n",
            " [ 18  53   1]\n",
            " [  3   6  41]]\n"
          ]
        },
        {
          "output_type": "display_data",
          "data": {
            "text/plain": [
              "<Figure size 432x288 with 1 Axes>"
            ],
            "image/png": "[encoded data removed]"
          },
          "metadata": {
            "needs_background": "light"
          }
        }
      ],
      "source": [
        "y_pred_c10 = model_C10.predict(X_test)\n",
        "plot_points(X_test, y_pred_c10)\n",
        "accuracy = accuracy_score(y_test, y_pred_c10)\n",
        "recall = recall_score(y_test, y_pred_c10, average=\"macro\")\n",
        "precision = precision_score(y_test, y_pred_c10,average=\"macro\")\n",
        "cf_matrix = confusion_matrix(y_test, y_pred_c10)\n",
        "\n",
        "print(\"Accuracy    : \", accuracy)\n",
        "print(\"Recall      : \", recall)\n",
        "print(\"Precision   : \", precision)\n",
        "print(\"Confusion Matrix: \", cf_matrix)\n"
      ]
    },
    {
      "cell_type": "markdown",
      "id": "6535d46d",
      "metadata": {
        "id": "6535d46d"
      },
      "source": [
        "SVM with C = 50"
      ]
    },
    {
      "cell_type": "code",
      "execution_count": 43,
      "id": "185ca87d",
      "metadata": {
        "colab": {
          "base_uri": "https://localhost:8080/",
          "height": 384
        },
        "id": "185ca87d",
        "outputId": "57e1713b-e0fc-4478-9c99-6929a7dacc91"
      },
      "outputs": [
        {
          "output_type": "stream",
          "name": "stdout",
          "text": [
            "Accuracy    :  0.9229323308270677\n",
            "Recall      :  0.8648825654923216\n",
            "Precision   :  0.8681174594503623\n",
            "Confusion Matrix:  [[393  14   3]\n",
            " [ 16  53   3]\n",
            " [  3   2  45]]\n"
          ]
        },
        {
          "output_type": "display_data",
          "data": {
            "text/plain": [
              "<Figure size 432x288 with 1 Axes>"
            ],
            "image/png": "[encoded data removed]"
          },
          "metadata": {
            "needs_background": "light"
          }
        }
      ],
      "source": [
        "y_pred_c50 = model_C50.predict(X_test)\n",
        "plot_points(X_test, y_pred_c50)\n",
        "accuracy = accuracy_score(y_test, y_pred_c50)\n",
        "recall = recall_score(y_test, y_pred_c50, average=\"macro\")\n",
        "precision = precision_score(y_test, y_pred_c50,average=\"macro\")\n",
        "cf_matrix = confusion_matrix(y_test, y_pred_c50)\n",
        "\n",
        "print(\"Accuracy    : \", accuracy)\n",
        "print(\"Recall      : \", recall)\n",
        "print(\"Precision   : \", precision)\n",
        "print(\"Confusion Matrix: \", cf_matrix)"
      ]
    },
    {
      "cell_type": "code",
      "execution_count": 45,
      "id": "bb669935",
      "metadata": {
        "colab": {
          "base_uri": "https://localhost:8080/",
          "height": 322
        },
        "id": "bb669935",
        "outputId": "5c5321cd-091e-4a6e-af69-b0f06f9283b5"
      },
      "outputs": [
        {
          "output_type": "error",
          "ename": "AttributeError",
          "evalue": "ignored",
          "traceback": [
            "\u001b[0;31m---------------------------------------------------------------------------\u001b[0m",
            "\u001b[0;31mAttributeError\u001b[0m                            Traceback (most recent call last)",
            "\u001b[0;32m<ipython-input-45-afab4374c0fd>\u001b[0m in \u001b[0;36m<module>\u001b[0;34m()\u001b[0m\n\u001b[1;32m      1\u001b[0m \u001b[0;32mfrom\u001b[0m \u001b[0mkeras\u001b[0m\u001b[0;34m.\u001b[0m\u001b[0mutils\u001b[0m\u001b[0;34m.\u001b[0m\u001b[0mvis_utils\u001b[0m \u001b[0;32mimport\u001b[0m \u001b[0mplot_model\u001b[0m\u001b[0;34m\u001b[0m\u001b[0;34m\u001b[0m\u001b[0m\n\u001b[0;32m----> 2\u001b[0;31m \u001b[0mplot_model\u001b[0m\u001b[0;34m(\u001b[0m\u001b[0mX_test\u001b[0m\u001b[0;34m,\u001b[0m \u001b[0my_pred_c1\u001b[0m\u001b[0;34m,\u001b[0m \u001b[0mmodel_C1\u001b[0m\u001b[0;34m)\u001b[0m\u001b[0;34m\u001b[0m\u001b[0;34m\u001b[0m\u001b[0m\n\u001b[0m",
            "\u001b[0;32m/usr/local/lib/python3.7/dist-packages/keras/utils/vis_utils.py\u001b[0m in \u001b[0;36mplot_model\u001b[0;34m(model, to_file, show_shapes, show_dtype, show_layer_names, rankdir, expand_nested, dpi, layer_range, show_layer_activations)\u001b[0m\n\u001b[1;32m    408\u001b[0m   \"\"\"\n\u001b[1;32m    409\u001b[0m \u001b[0;34m\u001b[0m\u001b[0m\n\u001b[0;32m--> 410\u001b[0;31m   \u001b[0;32mif\u001b[0m \u001b[0;32mnot\u001b[0m \u001b[0mmodel\u001b[0m\u001b[0;34m.\u001b[0m\u001b[0mbuilt\u001b[0m\u001b[0;34m:\u001b[0m\u001b[0;34m\u001b[0m\u001b[0;34m\u001b[0m\u001b[0m\n\u001b[0m\u001b[1;32m    411\u001b[0m     raise ValueError('This model has not yet been built. '\n\u001b[1;32m    412\u001b[0m                      \u001b[0;34m'Build the model first by calling `build()` or by calling '\u001b[0m\u001b[0;34m\u001b[0m\u001b[0;34m\u001b[0m\u001b[0m\n",
            "\u001b[0;31mAttributeError\u001b[0m: 'numpy.ndarray' object has no attribute 'built'"
          ]
        }
      ],
      "source": [
        "from keras.utils.vis_utils import plot_model\n",
        "plot_model(X_test, y_pred_c1, model_C1)"
      ]
    },
    {
      "cell_type": "code",
      "execution_count": null,
      "id": "093280ae",
      "metadata": {
        "id": "093280ae"
      },
      "outputs": [],
      "source": [
        ""
      ]
    }
  ],
  "metadata": {
    "kernelspec": {
      "display_name": "Python 3",
      "language": "python",
      "name": "python3"
    },
    "language_info": {
      "codemirror_mode": {
        "name": "ipython",
        "version": 3
      },
      "file_extension": ".py",
      "mimetype": "text/x-python",
      "name": "python",
      "nbconvert_exporter": "python",
      "pygments_lexer": "ipython3",
      "version": "3.8.8"
    },
    "colab": {
      "name": "CMPE255 Lab3.ipynb",
      "provenance": []
    }
  },
  "nbformat": 4,
  "nbformat_minor": 5
}